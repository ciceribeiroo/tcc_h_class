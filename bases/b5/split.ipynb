{
 "cells": [
  {
   "cell_type": "markdown",
   "metadata": {},
   "source": [
    "Notebook para a divisão k-fold"
   ]
  },
  {
   "cell_type": "code",
   "execution_count": 1,
   "metadata": {},
   "outputs": [],
   "source": [
    "import pandas as pd"
   ]
  },
  {
   "cell_type": "code",
   "execution_count": 2,
   "metadata": {},
   "outputs": [],
   "source": [
    "import numpy as np"
   ]
  },
  {
   "cell_type": "code",
   "execution_count": 3,
   "metadata": {},
   "outputs": [],
   "source": [
    "def read_file_as_df(file_name):\n",
    "    import pandas as pd\n",
    "    import csv\n",
    "\n",
    "    import sys\n",
    "    import pandas as pd\n",
    "\n",
    "    maxInt = sys.maxsize\n",
    "\n",
    "    while True:\n",
    "        # decrease the maxInt value by factor 10 \n",
    "        # as long as the OverflowError occurs.\n",
    "\n",
    "        try:\n",
    "            csv.field_size_limit(maxInt)\n",
    "            break\n",
    "        except OverflowError:\n",
    "            maxInt = int(maxInt/10)\n",
    "\n",
    "    file = []\n",
    "    col = []\n",
    "\n",
    "    with open(file_name) as csv_file:\n",
    "        csv_reader = csv.reader(csv_file, delimiter=';')\n",
    "        line_count = 0\n",
    "        for row in csv_reader:\n",
    "            if line_count==0:\n",
    "                for r in row:\n",
    "                    col.append(r)\n",
    "                line_count+=1\n",
    "            else:\n",
    "                line = []\n",
    "                for r in row:\n",
    "                    line.append(r)\n",
    "                file.append(line)\n",
    "                line_count += 1\n",
    "\n",
    "            \n",
    "    df = pd.DataFrame(file, columns = col)\n",
    "    return df\n"
   ]
  },
  {
   "cell_type": "code",
   "execution_count": 4,
   "metadata": {},
   "outputs": [],
   "source": [
    "df = read_file_as_df('C:/Users/alici/Documents/tcc/code/partições/b5/b5_post_concat.csv')"
   ]
  },
  {
   "cell_type": "code",
   "execution_count": 5,
   "metadata": {},
   "outputs": [
    {
     "data": {
      "text/html": [
       "<div>\n",
       "<style scoped>\n",
       "    .dataframe tbody tr th:only-of-type {\n",
       "        vertical-align: middle;\n",
       "    }\n",
       "\n",
       "    .dataframe tbody tr th {\n",
       "        vertical-align: top;\n",
       "    }\n",
       "\n",
       "    .dataframe thead th {\n",
       "        text-align: right;\n",
       "    }\n",
       "</style>\n",
       "<table border=\"1\" class=\"dataframe\">\n",
       "  <thead>\n",
       "    <tr style=\"text-align: right;\">\n",
       "      <th></th>\n",
       "      <th>User_ID</th>\n",
       "      <th>inventory</th>\n",
       "      <th>exp</th>\n",
       "      <th>ActualGender</th>\n",
       "      <th>age</th>\n",
       "      <th>TI</th>\n",
       "      <th>religiousity</th>\n",
       "      <th>course</th>\n",
       "      <th>extraversion</th>\n",
       "      <th>agreeableness</th>\n",
       "      <th>...</th>\n",
       "      <th>activity</th>\n",
       "      <th>altruism</th>\n",
       "      <th>compliance</th>\n",
       "      <th>order</th>\n",
       "      <th>selfdiscipline</th>\n",
       "      <th>ansiety</th>\n",
       "      <th>depression</th>\n",
       "      <th>aesthetics</th>\n",
       "      <th>ideas</th>\n",
       "      <th>Text</th>\n",
       "    </tr>\n",
       "  </thead>\n",
       "  <tbody>\n",
       "    <tr>\n",
       "      <th>0</th>\n",
       "      <td>17</td>\n",
       "      <td>facebook</td>\n",
       "      <td>0</td>\n",
       "      <td>m</td>\n",
       "      <td>24.0</td>\n",
       "      <td>yes</td>\n",
       "      <td>2.0</td>\n",
       "      <td>1</td>\n",
       "      <td>2,75</td>\n",
       "      <td>4,56</td>\n",
       "      <td>...</td>\n",
       "      <td>3,5</td>\n",
       "      <td>4,75</td>\n",
       "      <td>4</td>\n",
       "      <td>4,5</td>\n",
       "      <td>3,2</td>\n",
       "      <td>2,75</td>\n",
       "      <td>2</td>\n",
       "      <td>2</td>\n",
       "      <td>4</td>\n",
       "      <td>Ajude uma pesquisa de mestrado e descubra mais...</td>\n",
       "    </tr>\n",
       "    <tr>\n",
       "      <th>1</th>\n",
       "      <td>19</td>\n",
       "      <td>facebook</td>\n",
       "      <td>2</td>\n",
       "      <td>f</td>\n",
       "      <td>39.0</td>\n",
       "      <td>yes</td>\n",
       "      <td>3.0</td>\n",
       "      <td>0</td>\n",
       "      <td>4,13</td>\n",
       "      <td>3,22</td>\n",
       "      <td>...</td>\n",
       "      <td>3,5</td>\n",
       "      <td>4</td>\n",
       "      <td>2,33</td>\n",
       "      <td>2</td>\n",
       "      <td>3,6</td>\n",
       "      <td>3,75</td>\n",
       "      <td>3,5</td>\n",
       "      <td>4</td>\n",
       "      <td>3</td>\n",
       "      <td>saudades sempre linda  # \" E aí beleza queremo...</td>\n",
       "    </tr>\n",
       "    <tr>\n",
       "      <th>2</th>\n",
       "      <td>20</td>\n",
       "      <td>facebook</td>\n",
       "      <td>2</td>\n",
       "      <td>f</td>\n",
       "      <td>31.0</td>\n",
       "      <td>no</td>\n",
       "      <td>4.0</td>\n",
       "      <td>0</td>\n",
       "      <td>4,25</td>\n",
       "      <td>3,67</td>\n",
       "      <td>...</td>\n",
       "      <td>3,5</td>\n",
       "      <td>4,5</td>\n",
       "      <td>2,67</td>\n",
       "      <td>4</td>\n",
       "      <td>5</td>\n",
       "      <td>3</td>\n",
       "      <td>1,5</td>\n",
       "      <td>3,67</td>\n",
       "      <td>3,2</td>\n",
       "      <td>Sem mais . . .  # verdade  # $LAUGH$ pior que ...</td>\n",
       "    </tr>\n",
       "    <tr>\n",
       "      <th>3</th>\n",
       "      <td>21</td>\n",
       "      <td>facebook</td>\n",
       "      <td>2</td>\n",
       "      <td>m</td>\n",
       "      <td>28.0</td>\n",
       "      <td>yes</td>\n",
       "      <td>3.0</td>\n",
       "      <td>0</td>\n",
       "      <td>3,38</td>\n",
       "      <td>3,56</td>\n",
       "      <td>...</td>\n",
       "      <td>3,5</td>\n",
       "      <td>3,5</td>\n",
       "      <td>3,33</td>\n",
       "      <td>2</td>\n",
       "      <td>3</td>\n",
       "      <td>4,5</td>\n",
       "      <td>3</td>\n",
       "      <td>2,33</td>\n",
       "      <td>4,8</td>\n",
       "      <td>Excelente notícia . :  # E o silêncio reina em...</td>\n",
       "    </tr>\n",
       "    <tr>\n",
       "      <th>4</th>\n",
       "      <td>22</td>\n",
       "      <td>facebook</td>\n",
       "      <td>2</td>\n",
       "      <td>f</td>\n",
       "      <td>31.0</td>\n",
       "      <td>no</td>\n",
       "      <td>4.0</td>\n",
       "      <td>0</td>\n",
       "      <td>4,13</td>\n",
       "      <td>4,11</td>\n",
       "      <td>...</td>\n",
       "      <td>3,5</td>\n",
       "      <td>4,75</td>\n",
       "      <td>3</td>\n",
       "      <td>3,5</td>\n",
       "      <td>3,2</td>\n",
       "      <td>3,75</td>\n",
       "      <td>1,5</td>\n",
       "      <td>4,33</td>\n",
       "      <td>3,8</td>\n",
       "      <td>\" Verdade ! Mas , ainda faltam alguns nomes ne...</td>\n",
       "    </tr>\n",
       "  </tbody>\n",
       "</table>\n",
       "<p>5 rows × 24 columns</p>\n",
       "</div>"
      ],
      "text/plain": [
       "  User_ID inventory exp ActualGender   age   TI religiousity course  \\\n",
       "0      17  facebook   0            m  24.0  yes          2.0      1   \n",
       "1      19  facebook   2            f  39.0  yes          3.0      0   \n",
       "2      20  facebook   2            f  31.0   no          4.0      0   \n",
       "3      21  facebook   2            m  28.0  yes          3.0      0   \n",
       "4      22  facebook   2            f  31.0   no          4.0      0   \n",
       "\n",
       "  extraversion agreeableness  ... activity altruism compliance order  \\\n",
       "0         2,75          4,56  ...      3,5     4,75          4   4,5   \n",
       "1         4,13          3,22  ...      3,5        4       2,33     2   \n",
       "2         4,25          3,67  ...      3,5      4,5       2,67     4   \n",
       "3         3,38          3,56  ...      3,5      3,5       3,33     2   \n",
       "4         4,13          4,11  ...      3,5     4,75          3   3,5   \n",
       "\n",
       "  selfdiscipline ansiety depression aesthetics ideas  \\\n",
       "0            3,2    2,75          2          2     4   \n",
       "1            3,6    3,75        3,5          4     3   \n",
       "2              5       3        1,5       3,67   3,2   \n",
       "3              3     4,5          3       2,33   4,8   \n",
       "4            3,2    3,75        1,5       4,33   3,8   \n",
       "\n",
       "                                                Text  \n",
       "0  Ajude uma pesquisa de mestrado e descubra mais...  \n",
       "1  saudades sempre linda  # \" E aí beleza queremo...  \n",
       "2  Sem mais . . .  # verdade  # $LAUGH$ pior que ...  \n",
       "3  Excelente notícia . :  # E o silêncio reina em...  \n",
       "4  \" Verdade ! Mas , ainda faltam alguns nomes ne...  \n",
       "\n",
       "[5 rows x 24 columns]"
      ]
     },
     "execution_count": 5,
     "metadata": {},
     "output_type": "execute_result"
    }
   ],
   "source": [
    "df.head()"
   ]
  },
  {
   "cell_type": "code",
   "execution_count": 6,
   "metadata": {},
   "outputs": [
    {
     "data": {
      "text/plain": [
       "(1082, 24)"
      ]
     },
     "execution_count": 6,
     "metadata": {},
     "output_type": "execute_result"
    }
   ],
   "source": [
    "df.shape"
   ]
  },
  {
   "cell_type": "code",
   "execution_count": 7,
   "metadata": {},
   "outputs": [],
   "source": [
    "df.dropna(axis=1, inplace=True)\n",
    "df.drop_duplicates(inplace=True)"
   ]
  },
  {
   "cell_type": "code",
   "execution_count": 8,
   "metadata": {},
   "outputs": [
    {
     "data": {
      "text/plain": [
       "(1082, 24)"
      ]
     },
     "execution_count": 8,
     "metadata": {},
     "output_type": "execute_result"
    }
   ],
   "source": [
    "df.shape"
   ]
  },
  {
   "cell_type": "code",
   "execution_count": 9,
   "metadata": {},
   "outputs": [
    {
     "data": {
      "text/plain": [
       "Index(['User_ID', 'inventory', 'exp', 'ActualGender', 'age', 'TI',\n",
       "       'religiousity', 'course', 'extraversion', 'agreeableness',\n",
       "       'conscientiousness', 'neuroticism', 'openness', 'assertiveness',\n",
       "       'activity', 'altruism', 'compliance', 'order', 'selfdiscipline',\n",
       "       'ansiety', 'depression', 'aesthetics', 'ideas', 'Text'],\n",
       "      dtype='object')"
      ]
     },
     "execution_count": 9,
     "metadata": {},
     "output_type": "execute_result"
    }
   ],
   "source": [
    "df.columns"
   ]
  },
  {
   "cell_type": "code",
   "execution_count": 10,
   "metadata": {},
   "outputs": [],
   "source": [
    "df = df.drop(columns=['TI',\n",
    "       'religiousity', 'course', 'extraversion', 'agreeableness',\n",
    "       'conscientiousness', 'neuroticism', 'openness', 'assertiveness',\n",
    "       'activity', 'altruism', 'compliance', 'order', 'selfdiscipline',\n",
    "       'ansiety', 'depression', 'aesthetics', 'ideas', 'inventory', 'exp'])"
   ]
  },
  {
   "cell_type": "code",
   "execution_count": 11,
   "metadata": {},
   "outputs": [
    {
     "data": {
      "text/plain": [
       "Index(['User_ID', 'ActualGender', 'age', 'Text'], dtype='object')"
      ]
     },
     "execution_count": 11,
     "metadata": {},
     "output_type": "execute_result"
    }
   ],
   "source": [
    "df.columns"
   ]
  },
  {
   "cell_type": "code",
   "execution_count": 12,
   "metadata": {},
   "outputs": [
    {
     "data": {
      "text/plain": [
       "(1082, 4)"
      ]
     },
     "execution_count": 12,
     "metadata": {},
     "output_type": "execute_result"
    }
   ],
   "source": [
    "df.shape"
   ]
  },
  {
   "cell_type": "code",
   "execution_count": 13,
   "metadata": {},
   "outputs": [],
   "source": [
    "df['ActualGender'] = df['ActualGender'].replace('', np.nan)\n",
    "df['age'] = df['age'].replace('', np.nan)\n",
    "df['Text'] = df['Text'].replace('', np.nan)"
   ]
  },
  {
   "cell_type": "code",
   "execution_count": 14,
   "metadata": {},
   "outputs": [
    {
     "data": {
      "text/plain": [
       "(62, 4)"
      ]
     },
     "execution_count": 14,
     "metadata": {},
     "output_type": "execute_result"
    }
   ],
   "source": [
    "df[df['Text'].isna()].shape"
   ]
  },
  {
   "cell_type": "code",
   "execution_count": 15,
   "metadata": {},
   "outputs": [],
   "source": [
    "df = df.dropna(subset=['age', 'Text'])"
   ]
  },
  {
   "cell_type": "code",
   "execution_count": 16,
   "metadata": {},
   "outputs": [
    {
     "data": {
      "text/plain": [
       "(754, 4)"
      ]
     },
     "execution_count": 16,
     "metadata": {},
     "output_type": "execute_result"
    }
   ],
   "source": [
    "df.shape"
   ]
  },
  {
   "cell_type": "code",
   "execution_count": 17,
   "metadata": {},
   "outputs": [],
   "source": [
    "def ageGroups(text):\n",
    "    age = int(float(text))\n",
    "    if age >=18 and age<=20:\n",
    "        return 1\n",
    "    elif age >=23 and age<=25:\n",
    "        return 2\n",
    "    elif age >= 28 and age<=61:\n",
    "        return 3\n",
    "    else:\n",
    "        return 4"
   ]
  },
  {
   "cell_type": "code",
   "execution_count": 20,
   "metadata": {},
   "outputs": [],
   "source": [
    "df[\"AgeClass\"] = df[\"age\"].apply(ageGroups)"
   ]
  },
  {
   "cell_type": "code",
   "execution_count": 24,
   "metadata": {},
   "outputs": [],
   "source": [
    "df.drop(df[df['AgeClass'] == 4].index, inplace = True)"
   ]
  },
  {
   "cell_type": "code",
   "execution_count": 25,
   "metadata": {},
   "outputs": [
    {
     "data": {
      "text/plain": [
       "(517, 5)"
      ]
     },
     "execution_count": 25,
     "metadata": {},
     "output_type": "execute_result"
    }
   ],
   "source": [
    "df.shape"
   ]
  },
  {
   "cell_type": "code",
   "execution_count": 26,
   "metadata": {},
   "outputs": [],
   "source": [
    "def genderGroups(text):\n",
    "    if(text == \"f\"):\n",
    "        return 1\n",
    "    else:\n",
    "        return 0"
   ]
  },
  {
   "cell_type": "code",
   "execution_count": 27,
   "metadata": {},
   "outputs": [],
   "source": [
    "df[\"GenderClass\"] = df[\"ActualGender\"].apply(genderGroups)"
   ]
  },
  {
   "cell_type": "code",
   "execution_count": 28,
   "metadata": {},
   "outputs": [],
   "source": [
    "df.dropna(axis=1, inplace=True)\n",
    "df.dropna(axis=1, inplace=True)\n",
    "\n",
    "df.drop_duplicates(inplace=True)\n",
    "df.drop_duplicates(inplace=True)"
   ]
  },
  {
   "cell_type": "code",
   "execution_count": 29,
   "metadata": {},
   "outputs": [
    {
     "data": {
      "text/plain": [
       "(517, 6)"
      ]
     },
     "execution_count": 29,
     "metadata": {},
     "output_type": "execute_result"
    }
   ],
   "source": [
    "df.shape"
   ]
  },
  {
   "cell_type": "code",
   "execution_count": 34,
   "metadata": {},
   "outputs": [],
   "source": [
    "def GroupAgeAndGender(df):\n",
    "    ageGender = []\n",
    "    for _, line in df.iterrows():\n",
    "        if line[\"AgeClass\"]==1 and line[\"GenderClass\"]==1:\n",
    "            ageGender.append(1)\n",
    "        elif line[\"AgeClass\"]==1 and line[\"GenderClass\"]==0:\n",
    "            ageGender.append(2)\n",
    "        elif line[\"AgeClass\"]==2 and line[\"GenderClass\"]==1:\n",
    "            ageGender.append(3)\n",
    "        elif line[\"AgeClass\"]==2 and line[\"GenderClass\"]==0:\n",
    "            ageGender.append(4)\n",
    "        elif line[\"AgeClass\"]==3 and line[\"GenderClass\"]==1:\n",
    "            ageGender.append(5)\n",
    "        elif line[\"AgeClass\"]==3 and line[\"GenderClass\"]==0:\n",
    "            ageGender.append(6)\n",
    "    df[\"AgeGender\"] = ageGender"
   ]
  },
  {
   "cell_type": "code",
   "execution_count": 38,
   "metadata": {},
   "outputs": [],
   "source": [
    "df.reset_index(drop=True, inplace=True)"
   ]
  },
  {
   "cell_type": "code",
   "execution_count": 35,
   "metadata": {},
   "outputs": [],
   "source": [
    "GroupAgeAndGender(df)"
   ]
  },
  {
   "cell_type": "code",
   "execution_count": 36,
   "metadata": {},
   "outputs": [],
   "source": [
    "from sklearn.model_selection import StratifiedKFold"
   ]
  },
  {
   "cell_type": "code",
   "execution_count": 37,
   "metadata": {},
   "outputs": [],
   "source": [
    "kf_strat = StratifiedKFold(n_splits=10, shuffle=True)"
   ]
  },
  {
   "cell_type": "code",
   "execution_count": 39,
   "metadata": {},
   "outputs": [],
   "source": [
    "x = df\n",
    "y = df[\"AgeGender\"]"
   ]
  },
  {
   "cell_type": "code",
   "execution_count": 40,
   "metadata": {},
   "outputs": [],
   "source": [
    "def getsplits_strat(df, samples):\n",
    "     kfold_list = []\n",
    "     for train_index, test_index in kf_strat.split(df, samples):\n",
    "          print(len(train_index), len(test_index))\n",
    "          dftrain = df.iloc[train_index]\n",
    "          dftest = df.iloc[test_index]\n",
    "          kfold_list.append([dftrain, dftest])\n",
    "     return kfold_list"
   ]
  },
  {
   "cell_type": "code",
   "execution_count": 41,
   "metadata": {},
   "outputs": [
    {
     "name": "stdout",
     "output_type": "stream",
     "text": [
      "465 52\n",
      "465 52\n",
      "465 52\n",
      "465 52\n",
      "465 52\n",
      "465 52\n",
      "465 52\n",
      "466 51\n",
      "466 51\n",
      "466 51\n"
     ]
    }
   ],
   "source": [
    "kfold_list = getsplits_strat(x, y)"
   ]
  },
  {
   "cell_type": "code",
   "execution_count": 42,
   "metadata": {},
   "outputs": [
    {
     "name": "stdout",
     "output_type": "stream",
     "text": [
      "1    105\n",
      "2     85\n",
      "3     70\n",
      "Name: AgeClass, dtype: int64\n",
      "2    85\n",
      "3    61\n",
      "1    59\n",
      "Name: AgeClass, dtype: int64\n",
      "1    11\n",
      "2     9\n",
      "3     8\n",
      "Name: AgeClass, dtype: int64\n",
      "2    10\n",
      "3     7\n",
      "1     7\n",
      "Name: AgeClass, dtype: int64\n",
      "1    104\n",
      "2     84\n",
      "3     70\n",
      "Name: AgeClass, dtype: int64\n",
      "2    85\n",
      "3    62\n",
      "1    60\n",
      "Name: AgeClass, dtype: int64\n",
      "1    12\n",
      "2    10\n",
      "3     8\n",
      "Name: AgeClass, dtype: int64\n",
      "2    10\n",
      "3     6\n",
      "1     6\n",
      "Name: AgeClass, dtype: int64\n",
      "1    104\n",
      "2     84\n",
      "3     70\n",
      "Name: AgeClass, dtype: int64\n",
      "2    85\n",
      "3    62\n",
      "1    60\n",
      "Name: AgeClass, dtype: int64\n",
      "1    12\n",
      "2    10\n",
      "3     8\n",
      "Name: AgeClass, dtype: int64\n",
      "2    10\n",
      "1     6\n",
      "3     6\n",
      "Name: AgeClass, dtype: int64\n",
      "1    104\n",
      "2     84\n",
      "3     71\n",
      "Name: AgeClass, dtype: int64\n",
      "2    85\n",
      "3    61\n",
      "1    60\n",
      "Name: AgeClass, dtype: int64\n",
      "1    12\n",
      "2    10\n",
      "3     7\n",
      "Name: AgeClass, dtype: int64\n",
      "2    10\n",
      "3     7\n",
      "1     6\n",
      "Name: AgeClass, dtype: int64\n",
      "1    104\n",
      "2     84\n",
      "3     71\n",
      "Name: AgeClass, dtype: int64\n",
      "2    85\n",
      "3    61\n",
      "1    60\n",
      "Name: AgeClass, dtype: int64\n",
      "1    12\n",
      "2    10\n",
      "3     7\n",
      "Name: AgeClass, dtype: int64\n",
      "2    10\n",
      "3     7\n",
      "1     6\n",
      "Name: AgeClass, dtype: int64\n",
      "1    104\n",
      "2     85\n",
      "3     70\n",
      "Name: AgeClass, dtype: int64\n",
      "2    86\n",
      "3    61\n",
      "1    59\n",
      "Name: AgeClass, dtype: int64\n",
      "1    12\n",
      "2     9\n",
      "3     8\n",
      "Name: AgeClass, dtype: int64\n",
      "2    9\n",
      "3    7\n",
      "1    7\n",
      "Name: AgeClass, dtype: int64\n",
      "1    104\n",
      "2     85\n",
      "3     70\n",
      "Name: AgeClass, dtype: int64\n",
      "2    86\n",
      "3    61\n",
      "1    59\n",
      "Name: AgeClass, dtype: int64\n",
      "1    12\n",
      "2     9\n",
      "3     8\n",
      "Name: AgeClass, dtype: int64\n",
      "2    9\n",
      "1    7\n",
      "3    7\n",
      "Name: AgeClass, dtype: int64\n",
      "1    105\n",
      "2     85\n",
      "3     70\n",
      "Name: AgeClass, dtype: int64\n",
      "2    86\n",
      "3    61\n",
      "1    59\n",
      "Name: AgeClass, dtype: int64\n",
      "1    11\n",
      "2     9\n",
      "3     8\n",
      "Name: AgeClass, dtype: int64\n",
      "2    9\n",
      "1    7\n",
      "3    7\n",
      "Name: AgeClass, dtype: int64\n",
      "1    105\n",
      "2     85\n",
      "3     70\n",
      "Name: AgeClass, dtype: int64\n",
      "2    86\n",
      "3    61\n",
      "1    59\n",
      "Name: AgeClass, dtype: int64\n",
      "1    11\n",
      "2     9\n",
      "3     8\n",
      "Name: AgeClass, dtype: int64\n",
      "2    9\n",
      "3    7\n",
      "1    7\n",
      "Name: AgeClass, dtype: int64\n",
      "1    105\n",
      "2     85\n",
      "3     70\n",
      "Name: AgeClass, dtype: int64\n",
      "2    86\n",
      "3    61\n",
      "1    59\n",
      "Name: AgeClass, dtype: int64\n",
      "1    11\n",
      "2     9\n",
      "3     8\n",
      "Name: AgeClass, dtype: int64\n",
      "2    9\n",
      "3    7\n",
      "1    7\n",
      "Name: AgeClass, dtype: int64\n"
     ]
    }
   ],
   "source": [
    "for train, test in kfold_list:\n",
    "    train_fem = train[train[\"GenderClass\"]==1]\n",
    "    train_masc = train[train[\"GenderClass\"]==0]\n",
    "    print(train_fem[\"AgeClass\"].value_counts())\n",
    "    print(train_masc[\"AgeClass\"].value_counts())\n",
    "\n",
    "    test_fem = test[test[\"GenderClass\"]==1]\n",
    "    test_masc = test[test[\"GenderClass\"]==0]\n",
    "    print(test_fem[\"AgeClass\"].value_counts())\n",
    "    print(test_masc[\"AgeClass\"].value_counts())"
   ]
  },
  {
   "cell_type": "markdown",
   "metadata": {},
   "source": [
    "### Salvar em arquivo"
   ]
  },
  {
   "cell_type": "code",
   "execution_count": 43,
   "metadata": {},
   "outputs": [],
   "source": [
    "def create_split_csv(l, path):\n",
    "    import os\n",
    "    import shutil\n",
    "\n",
    "    root_folder = path\n",
    "    folder_name = \"k_\"\n",
    "    file_name1 = \"train\"\n",
    "    file_name2 = \"test\"\n",
    "    k = 1\n",
    "\n",
    "    for training, test in l:\n",
    "        path = os.path.join(root_folder, (folder_name+str(k)))\n",
    "        if(os.path.exists(path)):\n",
    "            shutil.rmtree(path)\n",
    "        os.mkdir(path)\n",
    "\n",
    "        training.to_csv((path+\"/\"+file_name1+\".csv\"), index = False, header=True)\n",
    "        test.to_csv((path+\"/\"+file_name2+\".csv\"), index = False, header=True)\n",
    "\n",
    "        k+=1"
   ]
  },
  {
   "cell_type": "code",
   "execution_count": 44,
   "metadata": {},
   "outputs": [],
   "source": [
    "create_split_csv(kfold_list, \"C:/Users/alici/Documents/tcc/github2/tcc-v2/b5/particoes\")"
   ]
  }
 ],
 "metadata": {
  "interpreter": {
   "hash": "ac26e9ee9434047e2b6179ca7c094dd6d7a5c4307efa62cbdc343ee78cec5e23"
  },
  "kernelspec": {
   "display_name": "Python 3.9.6 64-bit",
   "language": "python",
   "name": "python3"
  },
  "language_info": {
   "codemirror_mode": {
    "name": "ipython",
    "version": 3
   },
   "file_extension": ".py",
   "mimetype": "text/x-python",
   "name": "python",
   "nbconvert_exporter": "python",
   "pygments_lexer": "ipython3",
   "version": "3.9.6"
  },
  "orig_nbformat": 4
 },
 "nbformat": 4,
 "nbformat_minor": 2
}
