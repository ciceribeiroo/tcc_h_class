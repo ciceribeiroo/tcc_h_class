{
 "cells": [
  {
   "cell_type": "markdown",
   "metadata": {},
   "source": [
    "Notebook para a houdout estratificado"
   ]
  },
  {
   "cell_type": "code",
   "execution_count": 3,
   "metadata": {},
   "outputs": [],
   "source": [
    "import pandas as pd"
   ]
  },
  {
   "cell_type": "code",
   "execution_count": 4,
   "metadata": {},
   "outputs": [],
   "source": [
    "import numpy as np"
   ]
  },
  {
   "cell_type": "code",
   "execution_count": 5,
   "metadata": {},
   "outputs": [],
   "source": [
    "df = pd.read_csv('blogset-duplicate.csv')"
   ]
  },
  {
   "cell_type": "code",
   "execution_count": 4,
   "metadata": {},
   "outputs": [
    {
     "data": {
      "text/plain": [
       "(2604, 5)"
      ]
     },
     "execution_count": 4,
     "metadata": {},
     "output_type": "execute_result"
    }
   ],
   "source": [
    "df.shape"
   ]
  },
  {
   "cell_type": "code",
   "execution_count": 5,
   "metadata": {},
   "outputs": [],
   "source": [
    "df.dropna(axis=1, inplace=True)"
   ]
  },
  {
   "cell_type": "code",
   "execution_count": 6,
   "metadata": {},
   "outputs": [
    {
     "data": {
      "text/plain": [
       "(2537, 5)"
      ]
     },
     "execution_count": 6,
     "metadata": {},
     "output_type": "execute_result"
    }
   ],
   "source": [
    "df.shape"
   ]
  },
  {
   "cell_type": "code",
   "execution_count": 7,
   "metadata": {},
   "outputs": [
    {
     "data": {
      "text/plain": [
       "Index(['AuthorID', 'Qual sua idade?', 'Qual seu sexo?', 'Texts', 'AgeClass'], dtype='object')"
      ]
     },
     "execution_count": 7,
     "metadata": {},
     "output_type": "execute_result"
    }
   ],
   "source": [
    "df.columns"
   ]
  },
  {
   "cell_type": "code",
   "execution_count": 7,
   "metadata": {},
   "outputs": [],
   "source": [
    "def genderGroups(text):\n",
    "    if(text == \"Masculino\"):\n",
    "        return 0\n",
    "    else:\n",
    "        return 1"
   ]
  },
  {
   "cell_type": "code",
   "execution_count": 8,
   "metadata": {},
   "outputs": [],
   "source": [
    "df[\"GenderClass\"] = df[\"Qual seu sexo?\"].apply(genderGroups)"
   ]
  },
  {
   "cell_type": "code",
   "execution_count": 10,
   "metadata": {},
   "outputs": [
    {
     "data": {
      "text/plain": [
       "1    992\n",
       "2    887\n",
       "0    658\n",
       "Name: AgeClass, dtype: int64"
      ]
     },
     "execution_count": 10,
     "metadata": {},
     "output_type": "execute_result"
    }
   ],
   "source": [
    "df[\"AgeClass\"].value_counts()"
   ]
  },
  {
   "cell_type": "code",
   "execution_count": 9,
   "metadata": {},
   "outputs": [
    {
     "data": {
      "text/plain": [
       "1    425\n",
       "2    340\n",
       "0    275\n",
       "Name: AgeClass, dtype: int64"
      ]
     },
     "execution_count": 9,
     "metadata": {},
     "output_type": "execute_result"
    }
   ],
   "source": [
    "df_fem = df[df[\"GenderClass\"]==1]\n",
    "df_fem[\"AgeClass\"].value_counts()"
   ]
  },
  {
   "cell_type": "code",
   "execution_count": 10,
   "metadata": {},
   "outputs": [
    {
     "data": {
      "text/plain": [
       "1    596\n",
       "2    574\n",
       "0    394\n",
       "Name: AgeClass, dtype: int64"
      ]
     },
     "execution_count": 10,
     "metadata": {},
     "output_type": "execute_result"
    }
   ],
   "source": [
    "df_masc = df[df[\"GenderClass\"]==0]\n",
    "df_masc[\"AgeClass\"].value_counts()"
   ]
  },
  {
   "cell_type": "code",
   "execution_count": 11,
   "metadata": {},
   "outputs": [],
   "source": [
    "df.reset_index(drop=True, inplace=True)"
   ]
  },
  {
   "cell_type": "code",
   "execution_count": 12,
   "metadata": {},
   "outputs": [],
   "source": [
    "def GroupAgeAndGender(df):\n",
    "    ageGender = []\n",
    "    for _, line in df.iterrows():\n",
    "        if line[\"AgeClass\"]==0 and line[\"GenderClass\"]==1:\n",
    "            ageGender.append(0)\n",
    "        elif line[\"AgeClass\"]==0 and line[\"GenderClass\"]==0:\n",
    "            ageGender.append(1)\n",
    "        elif line[\"AgeClass\"]==1 and line[\"GenderClass\"]==1:\n",
    "            ageGender.append(2)\n",
    "        elif line[\"AgeClass\"]==1 and line[\"GenderClass\"]==0:\n",
    "            ageGender.append(3)\n",
    "        elif line[\"AgeClass\"]==2 and line[\"GenderClass\"]==1:\n",
    "            ageGender.append(4)\n",
    "        elif line[\"AgeClass\"]==2 and line[\"GenderClass\"]==0:\n",
    "            ageGender.append(5)\n",
    "    df[\"AgeGender\"] = ageGender"
   ]
  },
  {
   "cell_type": "code",
   "execution_count": 13,
   "metadata": {},
   "outputs": [],
   "source": [
    "GroupAgeAndGender(df)"
   ]
  },
  {
   "cell_type": "code",
   "execution_count": 14,
   "metadata": {},
   "outputs": [
    {
     "data": {
      "text/html": [
       "<div>\n",
       "<style scoped>\n",
       "    .dataframe tbody tr th:only-of-type {\n",
       "        vertical-align: middle;\n",
       "    }\n",
       "\n",
       "    .dataframe tbody tr th {\n",
       "        vertical-align: top;\n",
       "    }\n",
       "\n",
       "    .dataframe thead th {\n",
       "        text-align: right;\n",
       "    }\n",
       "</style>\n",
       "<table border=\"1\" class=\"dataframe\">\n",
       "  <thead>\n",
       "    <tr style=\"text-align: right;\">\n",
       "      <th></th>\n",
       "      <th>AuthorID</th>\n",
       "      <th>Qual sua idade?</th>\n",
       "      <th>Qual seu sexo?</th>\n",
       "      <th>Texts</th>\n",
       "      <th>AgeClass</th>\n",
       "      <th>GenderClass</th>\n",
       "      <th>AgeGender</th>\n",
       "    </tr>\n",
       "  </thead>\n",
       "  <tbody>\n",
       "    <tr>\n",
       "      <th>0</th>\n",
       "      <td>11807897332463595720</td>\n",
       "      <td>19 à 25 anos</td>\n",
       "      <td>Masculino</td>\n",
       "      <td>O designer inglês Graham Smith criou uma série...</td>\n",
       "      <td>0</td>\n",
       "      <td>0</td>\n",
       "      <td>1</td>\n",
       "    </tr>\n",
       "    <tr>\n",
       "      <th>1</th>\n",
       "      <td>5737856882009129069</td>\n",
       "      <td>mais de 60 anos</td>\n",
       "      <td>Masculino</td>\n",
       "      <td>\\n\\n\\n\\n\\n\\n\\n\\n\\n\\nA sonda espacial Soho da N...</td>\n",
       "      <td>2</td>\n",
       "      <td>0</td>\n",
       "      <td>5</td>\n",
       "    </tr>\n",
       "    <tr>\n",
       "      <th>2</th>\n",
       "      <td>4650502123448146932</td>\n",
       "      <td>40 à 60 anos</td>\n",
       "      <td>Masculino</td>\n",
       "      <td>O pessoal da ultra-direita anda mais animado q...</td>\n",
       "      <td>2</td>\n",
       "      <td>0</td>\n",
       "      <td>5</td>\n",
       "    </tr>\n",
       "    <tr>\n",
       "      <th>3</th>\n",
       "      <td>2534662484984494401</td>\n",
       "      <td>40 à 60 anos</td>\n",
       "      <td>Masculino</td>\n",
       "      <td>\\n\\nColaborou Vandeli - 26/12/1 12:25h\\n\\n\\nA ...</td>\n",
       "      <td>2</td>\n",
       "      <td>0</td>\n",
       "      <td>5</td>\n",
       "    </tr>\n",
       "    <tr>\n",
       "      <th>4</th>\n",
       "      <td>8353750961625391396</td>\n",
       "      <td>30 à 40 anos</td>\n",
       "      <td>Masculino</td>\n",
       "      <td>\\n\\n\\n\\n\\nA Sra. Tweedy (Miranda Richardson/Ná...</td>\n",
       "      <td>1</td>\n",
       "      <td>0</td>\n",
       "      <td>3</td>\n",
       "    </tr>\n",
       "  </tbody>\n",
       "</table>\n",
       "</div>"
      ],
      "text/plain": [
       "               AuthorID  Qual sua idade? Qual seu sexo?  \\\n",
       "0  11807897332463595720     19 à 25 anos      Masculino   \n",
       "1   5737856882009129069  mais de 60 anos      Masculino   \n",
       "2   4650502123448146932     40 à 60 anos      Masculino   \n",
       "3   2534662484984494401     40 à 60 anos      Masculino   \n",
       "4   8353750961625391396     30 à 40 anos      Masculino   \n",
       "\n",
       "                                               Texts  AgeClass  GenderClass  \\\n",
       "0  O designer inglês Graham Smith criou uma série...         0            0   \n",
       "1  \\n\\n\\n\\n\\n\\n\\n\\n\\n\\nA sonda espacial Soho da N...         2            0   \n",
       "2  O pessoal da ultra-direita anda mais animado q...         2            0   \n",
       "3  \\n\\nColaborou Vandeli - 26/12/1 12:25h\\n\\n\\nA ...         2            0   \n",
       "4  \\n\\n\\n\\n\\nA Sra. Tweedy (Miranda Richardson/Ná...         1            0   \n",
       "\n",
       "   AgeGender  \n",
       "0          1  \n",
       "1          5  \n",
       "2          5  \n",
       "3          5  \n",
       "4          3  "
      ]
     },
     "execution_count": 14,
     "metadata": {},
     "output_type": "execute_result"
    }
   ],
   "source": [
    "df.head()"
   ]
  },
  {
   "cell_type": "code",
   "execution_count": 15,
   "metadata": {},
   "outputs": [],
   "source": [
    "class_list = df[\"AgeGender\"].value_counts().index.to_list()\n",
    "values_list = df[\"AgeGender\"].value_counts().values.tolist()"
   ]
  },
  {
   "cell_type": "code",
   "execution_count": 16,
   "metadata": {},
   "outputs": [
    {
     "data": {
      "text/plain": [
       "[464, 444, 330, 310, 266, 216]"
      ]
     },
     "execution_count": 16,
     "metadata": {},
     "output_type": "execute_result"
    }
   ],
   "source": [
    "train_values = []\n",
    "for values in values_list:\n",
    "    train_values.append(round(values*0.8))\n",
    "train_values"
   ]
  },
  {
   "cell_type": "code",
   "execution_count": 17,
   "metadata": {},
   "outputs": [],
   "source": [
    "test_values = [i-j for i, j in zip(values_list, train_values)]"
   ]
  },
  {
   "cell_type": "code",
   "execution_count": 18,
   "metadata": {},
   "outputs": [
    {
     "data": {
      "text/plain": [
       "([464, 444, 330, 310, 266, 216],\n",
       " [116, 111, 82, 78, 66, 54],\n",
       " [580, 555, 412, 388, 332, 270])"
      ]
     },
     "execution_count": 18,
     "metadata": {},
     "output_type": "execute_result"
    }
   ],
   "source": [
    "train_values, test_values, values_list"
   ]
  },
  {
   "cell_type": "code",
   "execution_count": 19,
   "metadata": {},
   "outputs": [],
   "source": [
    "df_0 = df[df[\"AgeGender\"]==0]\n",
    "df_1 = df[df[\"AgeGender\"]==1]\n",
    "df_2 = df[df[\"AgeGender\"]==2]\n",
    "df_3 = df[df[\"AgeGender\"]==3]\n",
    "df_4 = df[df[\"AgeGender\"]==4]\n",
    "df_5 = df[df[\"AgeGender\"]==5]"
   ]
  },
  {
   "cell_type": "code",
   "execution_count": 20,
   "metadata": {},
   "outputs": [],
   "source": [
    "df_train_0 = df_0.sample(frac=0.8, random_state=1255)\n",
    "df_test_0=df_0.drop(df_train_0.index)\n",
    "df_train_1 = df_1.sample(frac=0.8, random_state=23)\n",
    "df_test_1=df_1.drop(df_train_1.index)\n",
    "df_train_2 = df_2.sample(frac=0.8, random_state=500)\n",
    "df_test_2=df_2.drop(df_train_2.index)\n",
    "df_train_3 = df_3.sample(frac=0.8, random_state=785)\n",
    "df_test_3=df_3.drop(df_train_3.index)\n",
    "df_train_4 = df_4.sample(frac=0.8, random_state=9)\n",
    "df_test_4=df_4.drop(df_train_4.index)\n",
    "df_train_5 = df_5.sample(frac=0.8, random_state=65)\n",
    "df_test_5=df_5.drop(df_train_5.index)"
   ]
  },
  {
   "cell_type": "code",
   "execution_count": 21,
   "metadata": {},
   "outputs": [],
   "source": [
    "df_train = pd.concat([df_train_0, df_train_1, df_train_2, df_train_3, df_train_4, df_train_5]).sample(frac=1)\n",
    "df_test = pd.concat([df_test_0, df_test_1, df_test_2, df_test_3, df_test_4, df_test_5]).sample(frac=1)"
   ]
  },
  {
   "cell_type": "code",
   "execution_count": 22,
   "metadata": {},
   "outputs": [
    {
     "data": {
      "text/plain": [
       "(3    464\n",
       " 5    444\n",
       " 2    330\n",
       " 1    310\n",
       " 4    266\n",
       " 0    216\n",
       " Name: AgeGender, dtype: int64,\n",
       " [464, 444, 330, 310, 266, 216])"
      ]
     },
     "execution_count": 22,
     "metadata": {},
     "output_type": "execute_result"
    }
   ],
   "source": [
    "df_train[\"AgeGender\"].value_counts(), train_values"
   ]
  },
  {
   "cell_type": "code",
   "execution_count": 23,
   "metadata": {},
   "outputs": [
    {
     "data": {
      "text/plain": [
       "(3    116\n",
       " 5    111\n",
       " 2     82\n",
       " 1     78\n",
       " 4     66\n",
       " 0     54\n",
       " Name: AgeGender, dtype: int64,\n",
       " [116, 111, 82, 78, 66, 54])"
      ]
     },
     "execution_count": 23,
     "metadata": {},
     "output_type": "execute_result"
    }
   ],
   "source": [
    "df_test[\"AgeGender\"].value_counts(), test_values"
   ]
  },
  {
   "cell_type": "code",
   "execution_count": 24,
   "metadata": {},
   "outputs": [],
   "source": [
    "df_train.to_csv(r\"C:\\Users\\alici\\Documents\\tcc\\v3\\particoes\\blogsetbr\\houdout\\train.csv\")\n",
    "df_test.to_csv(r\"C:\\Users\\alici\\Documents\\tcc\\v3\\particoes\\blogsetbr\\houdout\\test.csv\")"
   ]
  },
  {
   "cell_type": "code",
   "execution_count": null,
   "metadata": {},
   "outputs": [],
   "source": [
    "df_train = pd."
   ]
  }
 ],
 "metadata": {
  "interpreter": {
   "hash": "ac26e9ee9434047e2b6179ca7c094dd6d7a5c4307efa62cbdc343ee78cec5e23"
  },
  "kernelspec": {
   "display_name": "Python 3.9.6 64-bit",
   "language": "python",
   "name": "python3"
  },
  "language_info": {
   "codemirror_mode": {
    "name": "ipython",
    "version": 3
   },
   "file_extension": ".py",
   "mimetype": "text/x-python",
   "name": "python",
   "nbconvert_exporter": "python",
   "pygments_lexer": "ipython3",
   "version": "3.9.6"
  },
  "orig_nbformat": 4
 },
 "nbformat": 4,
 "nbformat_minor": 2
}
