{
 "cells": [
  {
   "cell_type": "markdown",
   "metadata": {},
   "source": [
    "Notebook para a divisão k-fold"
   ]
  },
  {
   "cell_type": "code",
   "execution_count": 29,
   "metadata": {},
   "outputs": [],
   "source": [
    "import pandas as pd"
   ]
  },
  {
   "cell_type": "code",
   "execution_count": 30,
   "metadata": {},
   "outputs": [],
   "source": [
    "import numpy as np"
   ]
  },
  {
   "cell_type": "code",
   "execution_count": 31,
   "metadata": {},
   "outputs": [],
   "source": [
    "df = pd.read_csv('blogset-duplicate.csv')"
   ]
  },
  {
   "cell_type": "code",
   "execution_count": 32,
   "metadata": {},
   "outputs": [
    {
     "data": {
      "text/plain": [
       "(2604, 5)"
      ]
     },
     "execution_count": 32,
     "metadata": {},
     "output_type": "execute_result"
    }
   ],
   "source": [
    "df.shape"
   ]
  },
  {
   "cell_type": "code",
   "execution_count": 33,
   "metadata": {},
   "outputs": [],
   "source": [
    "df.dropna(axis=1, inplace=True)"
   ]
  },
  {
   "cell_type": "code",
   "execution_count": 34,
   "metadata": {},
   "outputs": [
    {
     "data": {
      "text/plain": [
       "(2604, 5)"
      ]
     },
     "execution_count": 34,
     "metadata": {},
     "output_type": "execute_result"
    }
   ],
   "source": [
    "df.shape"
   ]
  },
  {
   "cell_type": "code",
   "execution_count": 35,
   "metadata": {},
   "outputs": [
    {
     "data": {
      "text/plain": [
       "Index(['AuthorID', 'Qual sua idade?', 'Qual seu sexo?', 'Texts', 'AgeClass'], dtype='object')"
      ]
     },
     "execution_count": 35,
     "metadata": {},
     "output_type": "execute_result"
    }
   ],
   "source": [
    "df.columns"
   ]
  },
  {
   "cell_type": "code",
   "execution_count": 36,
   "metadata": {},
   "outputs": [],
   "source": [
    "def genderGroups(text):\n",
    "    if(text == \"Masculino\"):\n",
    "        return 0\n",
    "    else:\n",
    "        return 1"
   ]
  },
  {
   "cell_type": "code",
   "execution_count": 37,
   "metadata": {},
   "outputs": [],
   "source": [
    "df[\"GenderClass\"] = df[\"Qual seu sexo?\"].apply(genderGroups)"
   ]
  },
  {
   "cell_type": "code",
   "execution_count": 38,
   "metadata": {},
   "outputs": [
    {
     "data": {
      "text/plain": [
       "Masculino    1564\n",
       "Feminino     1040\n",
       "Name: Qual seu sexo?, dtype: int64"
      ]
     },
     "execution_count": 38,
     "metadata": {},
     "output_type": "execute_result"
    }
   ],
   "source": [
    "df[\"Qual seu sexo?\"].value_counts()"
   ]
  },
  {
   "cell_type": "code",
   "execution_count": 9,
   "metadata": {},
   "outputs": [],
   "source": [
    "from sklearn.model_selection import StratifiedKFold"
   ]
  },
  {
   "cell_type": "code",
   "execution_count": 10,
   "metadata": {},
   "outputs": [],
   "source": [
    "kf_strat = StratifiedKFold(n_splits=10, shuffle=True)"
   ]
  },
  {
   "cell_type": "code",
   "execution_count": 11,
   "metadata": {},
   "outputs": [],
   "source": [
    "df.reset_index(drop=True, inplace=True)"
   ]
  },
  {
   "cell_type": "code",
   "execution_count": 16,
   "metadata": {},
   "outputs": [],
   "source": [
    "def GroupAgeAndGender(df):\n",
    "    ageGender = []\n",
    "    for _, line in df.iterrows():\n",
    "        if line[\"AgeClass\"]==0 and line[\"GenderClass\"]==1:\n",
    "            ageGender.append(0)\n",
    "        elif line[\"AgeClass\"]==0 and line[\"GenderClass\"]==0:\n",
    "            ageGender.append(1)\n",
    "        elif line[\"AgeClass\"]==1 and line[\"GenderClass\"]==1:\n",
    "            ageGender.append(2)\n",
    "        elif line[\"AgeClass\"]==1 and line[\"GenderClass\"]==0:\n",
    "            ageGender.append(3)\n",
    "        elif line[\"AgeClass\"]==2 and line[\"GenderClass\"]==1:\n",
    "            ageGender.append(4)\n",
    "        elif line[\"AgeClass\"]==2 and line[\"GenderClass\"]==0:\n",
    "            ageGender.append(5)\n",
    "    df[\"AgeGender\"] = ageGender"
   ]
  },
  {
   "cell_type": "code",
   "execution_count": 17,
   "metadata": {},
   "outputs": [],
   "source": [
    "GroupAgeAndGender(df)"
   ]
  },
  {
   "cell_type": "code",
   "execution_count": 19,
   "metadata": {},
   "outputs": [],
   "source": [
    "x = df\n",
    "y = df[\"AgeGender\"]"
   ]
  },
  {
   "cell_type": "code",
   "execution_count": 20,
   "metadata": {},
   "outputs": [],
   "source": [
    "def getsplits_strat(df, samples):\n",
    "     kfold_list = []\n",
    "     for train_index, test_index in kf_strat.split(df, samples):\n",
    "          print(len(train_index), len(test_index))\n",
    "          dftrain = df.iloc[train_index]\n",
    "          dftest = df.iloc[test_index]\n",
    "          kfold_list.append([dftrain, dftest])\n",
    "     return kfold_list"
   ]
  },
  {
   "cell_type": "code",
   "execution_count": 21,
   "metadata": {},
   "outputs": [
    {
     "name": "stdout",
     "output_type": "stream",
     "text": [
      "2283 254\n",
      "2283 254\n",
      "2283 254\n",
      "2283 254\n",
      "2283 254\n",
      "2283 254\n",
      "2283 254\n",
      "2284 253\n",
      "2284 253\n",
      "2284 253\n"
     ]
    }
   ],
   "source": [
    "kfold_list = getsplits_strat(x, y)"
   ]
  },
  {
   "cell_type": "code",
   "execution_count": 23,
   "metadata": {},
   "outputs": [
    {
     "name": "stdout",
     "output_type": "stream",
     "text": [
      "1    371\n",
      "2    299\n",
      "0    243\n",
      "Name: AgeClass, dtype: int64\n",
      "1    522\n",
      "2    499\n",
      "0    349\n",
      "Name: AgeClass, dtype: int64\n",
      "1    41\n",
      "2    33\n",
      "0    27\n",
      "Name: AgeClass, dtype: int64\n",
      "1    58\n",
      "2    56\n",
      "0    39\n",
      "Name: AgeClass, dtype: int64\n",
      "1    371\n",
      "2    299\n",
      "0    243\n",
      "Name: AgeClass, dtype: int64\n",
      "1    522\n",
      "2    499\n",
      "0    349\n",
      "Name: AgeClass, dtype: int64\n",
      "1    41\n",
      "2    33\n",
      "0    27\n",
      "Name: AgeClass, dtype: int64\n",
      "1    58\n",
      "2    56\n",
      "0    39\n",
      "Name: AgeClass, dtype: int64\n",
      "1    371\n",
      "2    299\n",
      "0    243\n",
      "Name: AgeClass, dtype: int64\n",
      "1    522\n",
      "2    499\n",
      "0    349\n",
      "Name: AgeClass, dtype: int64\n",
      "1    41\n",
      "2    33\n",
      "0    27\n",
      "Name: AgeClass, dtype: int64\n",
      "1    58\n",
      "2    56\n",
      "0    39\n",
      "Name: AgeClass, dtype: int64\n",
      "1    370\n",
      "2    299\n",
      "0    243\n",
      "Name: AgeClass, dtype: int64\n",
      "1    522\n",
      "2    500\n",
      "0    349\n",
      "Name: AgeClass, dtype: int64\n",
      "1    42\n",
      "2    33\n",
      "0    27\n",
      "Name: AgeClass, dtype: int64\n",
      "1    58\n",
      "2    55\n",
      "0    39\n",
      "Name: AgeClass, dtype: int64\n",
      "1    370\n",
      "2    299\n",
      "0    243\n",
      "Name: AgeClass, dtype: int64\n",
      "1    522\n",
      "2    500\n",
      "0    349\n",
      "Name: AgeClass, dtype: int64\n",
      "1    42\n",
      "2    33\n",
      "0    27\n",
      "Name: AgeClass, dtype: int64\n",
      "1    58\n",
      "2    55\n",
      "0    39\n",
      "Name: AgeClass, dtype: int64\n",
      "1    371\n",
      "2    298\n",
      "0    243\n",
      "Name: AgeClass, dtype: int64\n",
      "1    522\n",
      "2    500\n",
      "0    349\n",
      "Name: AgeClass, dtype: int64\n",
      "1    41\n",
      "2    34\n",
      "0    27\n",
      "Name: AgeClass, dtype: int64\n",
      "1    58\n",
      "2    55\n",
      "0    39\n",
      "Name: AgeClass, dtype: int64\n",
      "1    371\n",
      "2    298\n",
      "0    243\n",
      "Name: AgeClass, dtype: int64\n",
      "1    522\n",
      "2    500\n",
      "0    349\n",
      "Name: AgeClass, dtype: int64\n",
      "1    41\n",
      "2    34\n",
      "0    27\n",
      "Name: AgeClass, dtype: int64\n",
      "1    58\n",
      "2    55\n",
      "0    39\n",
      "Name: AgeClass, dtype: int64\n",
      "1    371\n",
      "2    299\n",
      "0    243\n",
      "Name: AgeClass, dtype: int64\n",
      "1    522\n",
      "2    500\n",
      "0    349\n",
      "Name: AgeClass, dtype: int64\n",
      "1    41\n",
      "2    33\n",
      "0    27\n",
      "Name: AgeClass, dtype: int64\n",
      "1    58\n",
      "2    55\n",
      "0    39\n",
      "Name: AgeClass, dtype: int64\n",
      "1    371\n",
      "2    299\n",
      "0    243\n",
      "Name: AgeClass, dtype: int64\n",
      "1    522\n",
      "2    499\n",
      "0    350\n",
      "Name: AgeClass, dtype: int64\n",
      "1    41\n",
      "2    33\n",
      "0    27\n",
      "Name: AgeClass, dtype: int64\n",
      "1    58\n",
      "2    56\n",
      "0    38\n",
      "Name: AgeClass, dtype: int64\n",
      "1    371\n",
      "2    299\n",
      "0    243\n",
      "Name: AgeClass, dtype: int64\n",
      "1    522\n",
      "2    499\n",
      "0    350\n",
      "Name: AgeClass, dtype: int64\n",
      "1    41\n",
      "2    33\n",
      "0    27\n",
      "Name: AgeClass, dtype: int64\n",
      "1    58\n",
      "2    56\n",
      "0    38\n",
      "Name: AgeClass, dtype: int64\n"
     ]
    }
   ],
   "source": [
    "for train, test in kfold_list:\n",
    "    train_fem = train[train[\"GenderClass\"]==1]\n",
    "    train_masc = train[train[\"GenderClass\"]==0]\n",
    "    print(train_fem[\"AgeClass\"].value_counts())\n",
    "    print(train_masc[\"AgeClass\"].value_counts())\n",
    "\n",
    "    test_fem = test[test[\"GenderClass\"]==1]\n",
    "    test_masc = test[test[\"GenderClass\"]==0]\n",
    "    print(test_fem[\"AgeClass\"].value_counts())\n",
    "    print(test_masc[\"AgeClass\"].value_counts())"
   ]
  },
  {
   "cell_type": "markdown",
   "metadata": {},
   "source": [
    "### Salvar em arquivo"
   ]
  },
  {
   "cell_type": "code",
   "execution_count": 25,
   "metadata": {},
   "outputs": [],
   "source": [
    "def create_split_csv(l, path):\n",
    "    import os\n",
    "    import shutil\n",
    "\n",
    "    root_folder = path\n",
    "    folder_name = \"k_\"\n",
    "    file_name1 = \"train\"\n",
    "    file_name2 = \"test\"\n",
    "    k = 1\n",
    "\n",
    "    for training, test in l:\n",
    "        path = os.path.join(root_folder, (folder_name+str(k)))\n",
    "        if(os.path.exists(path)):\n",
    "            shutil.rmtree(path)\n",
    "        os.mkdir(path)\n",
    "\n",
    "        training.to_csv((path+\"/\"+file_name1+\".csv\"), index = False, header=True)\n",
    "        test.to_csv((path+\"/\"+file_name2+\".csv\"), index = False, header=True)\n",
    "\n",
    "        k+=1"
   ]
  },
  {
   "cell_type": "code",
   "execution_count": 26,
   "metadata": {},
   "outputs": [],
   "source": [
    "create_split_csv(kfold_list, \"C:/Users/alici/Documents/tcc/github2/tcc-v2/blogset-br/particoes\")"
   ]
  }
 ],
 "metadata": {
  "interpreter": {
   "hash": "ac26e9ee9434047e2b6179ca7c094dd6d7a5c4307efa62cbdc343ee78cec5e23"
  },
  "kernelspec": {
   "display_name": "Python 3.9.6 64-bit",
   "language": "python",
   "name": "python3"
  },
  "language_info": {
   "codemirror_mode": {
    "name": "ipython",
    "version": 3
   },
   "file_extension": ".py",
   "mimetype": "text/x-python",
   "name": "python",
   "nbconvert_exporter": "python",
   "pygments_lexer": "ipython3",
   "version": "3.9.6"
  },
  "orig_nbformat": 4
 },
 "nbformat": 4,
 "nbformat_minor": 2
}
