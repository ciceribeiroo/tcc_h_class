{
 "cells": [
  {
   "cell_type": "markdown",
   "metadata": {},
   "source": [
    "Notebook para a divisão k-fold"
   ]
  },
  {
   "cell_type": "code",
   "execution_count": 31,
   "metadata": {},
   "outputs": [],
   "source": [
    "import pandas as pd"
   ]
  },
  {
   "cell_type": "code",
   "execution_count": 32,
   "metadata": {},
   "outputs": [],
   "source": [
    "import numpy as np"
   ]
  },
  {
   "cell_type": "code",
   "execution_count": 33,
   "metadata": {},
   "outputs": [],
   "source": [
    "def read_file_as_df(file_name):\n",
    "    import pandas as pd\n",
    "    import csv\n",
    "\n",
    "    import sys\n",
    "    import pandas as pd\n",
    "\n",
    "    maxInt = sys.maxsize\n",
    "\n",
    "    while True:\n",
    "        # decrease the maxInt value by factor 10 \n",
    "        # as long as the OverflowError occurs.\n",
    "\n",
    "        try:\n",
    "            csv.field_size_limit(maxInt)\n",
    "            break\n",
    "        except OverflowError:\n",
    "            maxInt = int(maxInt/10)\n",
    "\n",
    "    file = []\n",
    "    col = []\n",
    "\n",
    "    with open(file_name) as csv_file:\n",
    "        csv_reader = csv.reader(csv_file, delimiter=';')\n",
    "        line_count = 0\n",
    "        for row in csv_reader:\n",
    "            if line_count==0:\n",
    "                for r in row:\n",
    "                    col.append(r)\n",
    "                line_count+=1\n",
    "            else:\n",
    "                line = []\n",
    "                for r in row:\n",
    "                    line.append(r)\n",
    "                file.append(line)\n",
    "                line_count += 1\n",
    "\n",
    "            \n",
    "    df = pd.DataFrame(file, columns = col)\n",
    "    return df\n"
   ]
  },
  {
   "cell_type": "code",
   "execution_count": 34,
   "metadata": {},
   "outputs": [],
   "source": [
    "df = read_file_as_df('brMoral.csv')"
   ]
  },
  {
   "cell_type": "code",
   "execution_count": 35,
   "metadata": {},
   "outputs": [],
   "source": [
    "df.dropna(axis=1, inplace=True)\n",
    "df.drop_duplicates(inplace=True)"
   ]
  },
  {
   "cell_type": "code",
   "execution_count": 36,
   "metadata": {},
   "outputs": [
    {
     "data": {
      "text/plain": [
       "(510, 77)"
      ]
     },
     "execution_count": 36,
     "metadata": {},
     "output_type": "execute_result"
    }
   ],
   "source": [
    "df.shape"
   ]
  },
  {
   "cell_type": "code",
   "execution_count": 37,
   "metadata": {},
   "outputs": [],
   "source": [
    "df = df.drop(columns=['t.gay-marriage', 't.gun-control', 't.abortion',\n",
    "       't.death-penalty', 't.drugs', 't.criminal-age', 't.racial-quotas',\n",
    "       't.church-tax', 'school', 'it',\n",
    "       'religion', 'politics', 'age', 'ap.school', 'ap.religion',\n",
    "       'ap.politics', 's.gay-marriage', 's.gun-control', 's.abortion',\n",
    "       's.death-penalty', 's.drugs', 's.criminal-age', 's.racial-quotas',\n",
    "       's.church-tax', 'st.gay-marriage', 'st.gun-control', 'st.abortion',\n",
    "       'st.death-penalty', 'st.drugs', 'st.criminal-age', 'st.racial-quotas',\n",
    "       'st.church-tax', 'care', 'fairness', 'loyalty', 'authority', 'purity',\n",
    "       'mf.care', 'mf.fairness', 'mf.loyalty', 'mf.authority', 'mf.purity',\n",
    "       'item1', 'item2', 'item3', 'item4', 'item5', 'item7', 'item8', 'item9',\n",
    "       'item10', 'item11', 'item12', 'item13', 'item14', 'item15', 'item16',\n",
    "       'item17', 'item18', 'item19', 'item20', 'item21', 'item23', 'item24',\n",
    "       'item25', 'item26', 'item27', 'item28', 'item29', 'item30', 'item31',\n",
    "       'item32'])"
   ]
  },
  {
   "cell_type": "code",
   "execution_count": 38,
   "metadata": {},
   "outputs": [
    {
     "data": {
      "text/plain": [
       "Index(['sid', 'concat', 'freetext', 'gender', 'ap.age'], dtype='object')"
      ]
     },
     "execution_count": 38,
     "metadata": {},
     "output_type": "execute_result"
    }
   ],
   "source": [
    "df.columns"
   ]
  },
  {
   "cell_type": "code",
   "execution_count": 39,
   "metadata": {},
   "outputs": [
    {
     "data": {
      "text/plain": [
       "(510, 5)"
      ]
     },
     "execution_count": 39,
     "metadata": {},
     "output_type": "execute_result"
    }
   ],
   "source": [
    "df.shape"
   ]
  },
  {
   "cell_type": "code",
   "execution_count": 40,
   "metadata": {},
   "outputs": [],
   "source": [
    "def age_groups(text):\n",
    "    if text=='a0-23':\n",
    "        return 1\n",
    "    elif text=='a24-30':\n",
    "        return 2\n",
    "    else:\n",
    "        return 3"
   ]
  },
  {
   "cell_type": "code",
   "execution_count": 41,
   "metadata": {},
   "outputs": [],
   "source": [
    "df[\"AgeClass\"] = df[\"ap.age\"].apply(age_groups)"
   ]
  },
  {
   "cell_type": "code",
   "execution_count": 42,
   "metadata": {},
   "outputs": [
    {
     "data": {
      "text/html": [
       "<div>\n",
       "<style scoped>\n",
       "    .dataframe tbody tr th:only-of-type {\n",
       "        vertical-align: middle;\n",
       "    }\n",
       "\n",
       "    .dataframe tbody tr th {\n",
       "        vertical-align: top;\n",
       "    }\n",
       "\n",
       "    .dataframe thead th {\n",
       "        text-align: right;\n",
       "    }\n",
       "</style>\n",
       "<table border=\"1\" class=\"dataframe\">\n",
       "  <thead>\n",
       "    <tr style=\"text-align: right;\">\n",
       "      <th></th>\n",
       "      <th>sid</th>\n",
       "      <th>concat</th>\n",
       "      <th>freetext</th>\n",
       "      <th>gender</th>\n",
       "      <th>ap.age</th>\n",
       "      <th>AgeClass</th>\n",
       "    </tr>\n",
       "  </thead>\n",
       "  <tbody>\n",
       "    <tr>\n",
       "      <th>0</th>\n",
       "      <td>sid6000</td>\n",
       "      <td>Não vejo e nem nunca vi problema nisso, acho q...</td>\n",
       "      <td>A flexibilidade é extremamente importante nas ...</td>\n",
       "      <td>m</td>\n",
       "      <td>a0-23</td>\n",
       "      <td>1</td>\n",
       "    </tr>\n",
       "    <tr>\n",
       "      <th>1</th>\n",
       "      <td>sid6001</td>\n",
       "      <td>Acredito que todos possuem direito de escolher...</td>\n",
       "      <td>Acabo de responder a perguntas bastante polêmi...</td>\n",
       "      <td>m</td>\n",
       "      <td>a24-30</td>\n",
       "      <td>2</td>\n",
       "    </tr>\n",
       "    <tr>\n",
       "      <th>2</th>\n",
       "      <td>sid959</td>\n",
       "      <td>Acredito que todos tem o direito de escolher c...</td>\n",
       "      <td>Achei esse teste cansativo à beça, mas me fez ...</td>\n",
       "      <td>m</td>\n",
       "      <td>a24-30</td>\n",
       "      <td>2</td>\n",
       "    </tr>\n",
       "    <tr>\n",
       "      <th>3</th>\n",
       "      <td>sid842</td>\n",
       "      <td>Vejo que as pessoas tem todo o direito de esco...</td>\n",
       "      <td>amanhã trabalho cansaço tarde engenharia dados...</td>\n",
       "      <td>m</td>\n",
       "      <td>a0-23</td>\n",
       "      <td>1</td>\n",
       "    </tr>\n",
       "    <tr>\n",
       "      <th>4</th>\n",
       "      <td>sid774</td>\n",
       "      <td>As pessoas devem ser livres para tomar decisõe...</td>\n",
       "      <td>Algo difícil na vida é conquistar sua independ...</td>\n",
       "      <td>f</td>\n",
       "      <td>a0-23</td>\n",
       "      <td>1</td>\n",
       "    </tr>\n",
       "  </tbody>\n",
       "</table>\n",
       "</div>"
      ],
      "text/plain": [
       "       sid                                             concat  \\\n",
       "0  sid6000  Não vejo e nem nunca vi problema nisso, acho q...   \n",
       "1  sid6001  Acredito que todos possuem direito de escolher...   \n",
       "2   sid959  Acredito que todos tem o direito de escolher c...   \n",
       "3   sid842  Vejo que as pessoas tem todo o direito de esco...   \n",
       "4   sid774  As pessoas devem ser livres para tomar decisõe...   \n",
       "\n",
       "                                            freetext gender  ap.age  AgeClass  \n",
       "0  A flexibilidade é extremamente importante nas ...      m   a0-23         1  \n",
       "1  Acabo de responder a perguntas bastante polêmi...      m  a24-30         2  \n",
       "2  Achei esse teste cansativo à beça, mas me fez ...      m  a24-30         2  \n",
       "3  amanhã trabalho cansaço tarde engenharia dados...      m   a0-23         1  \n",
       "4  Algo difícil na vida é conquistar sua independ...      f   a0-23         1  "
      ]
     },
     "execution_count": 42,
     "metadata": {},
     "output_type": "execute_result"
    }
   ],
   "source": [
    "df.head()"
   ]
  },
  {
   "cell_type": "code",
   "execution_count": 43,
   "metadata": {},
   "outputs": [],
   "source": [
    "def genderGroups(text):\n",
    "    if(text == \"f\"):\n",
    "        return 1\n",
    "    else:\n",
    "        return 0"
   ]
  },
  {
   "cell_type": "code",
   "execution_count": 44,
   "metadata": {},
   "outputs": [],
   "source": [
    "df[\"GenderClass\"] = df[\"gender\"].apply(genderGroups)"
   ]
  },
  {
   "cell_type": "code",
   "execution_count": 45,
   "metadata": {},
   "outputs": [],
   "source": [
    "def GroupAgeAndGender(df):\n",
    "    ageGender = []\n",
    "    for _, line in df.iterrows():\n",
    "        if line[\"AgeClass\"]==1 and line[\"GenderClass\"]==1:\n",
    "            ageGender.append(0)\n",
    "        elif line[\"AgeClass\"]==1 and line[\"GenderClass\"]==0:\n",
    "            ageGender.append(1)\n",
    "        elif line[\"AgeClass\"]==2 and line[\"GenderClass\"]==1:\n",
    "            ageGender.append(2)\n",
    "        elif line[\"AgeClass\"]==2 and line[\"GenderClass\"]==0:\n",
    "            ageGender.append(3)\n",
    "        elif line[\"AgeClass\"]==3 and line[\"GenderClass\"]==1:\n",
    "            ageGender.append(4)\n",
    "        elif line[\"AgeClass\"]==3 and line[\"GenderClass\"]==0:\n",
    "            ageGender.append(5)\n",
    "    df[\"AgeGender\"] = ageGender"
   ]
  },
  {
   "cell_type": "code",
   "execution_count": 46,
   "metadata": {},
   "outputs": [],
   "source": [
    "GroupAgeAndGender(df)"
   ]
  },
  {
   "cell_type": "code",
   "execution_count": 47,
   "metadata": {},
   "outputs": [],
   "source": [
    "df.reset_index(drop=True, inplace=True)"
   ]
  },
  {
   "cell_type": "code",
   "execution_count": 48,
   "metadata": {},
   "outputs": [],
   "source": [
    "from sklearn.model_selection import StratifiedKFold"
   ]
  },
  {
   "cell_type": "code",
   "execution_count": 49,
   "metadata": {},
   "outputs": [],
   "source": [
    "kf_strat = StratifiedKFold(n_splits=10, shuffle=True)"
   ]
  },
  {
   "cell_type": "code",
   "execution_count": 50,
   "metadata": {},
   "outputs": [],
   "source": [
    "x = df\n",
    "y = df[\"AgeGender\"]"
   ]
  },
  {
   "cell_type": "code",
   "execution_count": 51,
   "metadata": {},
   "outputs": [],
   "source": [
    "def getsplits_strat(df, samples):\n",
    "     kfold_list = []\n",
    "     for train_index, test_index in kf_strat.split(df, samples):\n",
    "          print(len(train_index), len(test_index))\n",
    "          dftrain = df.iloc[train_index]\n",
    "          dftest = df.iloc[test_index]\n",
    "          kfold_list.append([dftrain, dftest])\n",
    "     return kfold_list"
   ]
  },
  {
   "cell_type": "code",
   "execution_count": 52,
   "metadata": {},
   "outputs": [
    {
     "name": "stdout",
     "output_type": "stream",
     "text": [
      "459 51\n",
      "459 51\n",
      "459 51\n",
      "459 51\n",
      "459 51\n",
      "459 51\n",
      "459 51\n",
      "459 51\n",
      "459 51\n",
      "459 51\n"
     ]
    }
   ],
   "source": [
    "kfold_list = getsplits_strat(x, y)"
   ]
  },
  {
   "cell_type": "code",
   "execution_count": 53,
   "metadata": {},
   "outputs": [
    {
     "name": "stdout",
     "output_type": "stream",
     "text": [
      "1    59\n",
      "3    53\n",
      "2    46\n",
      "Name: AgeClass, dtype: int64\n",
      "2    118\n",
      "1    109\n",
      "3     74\n",
      "Name: AgeClass, dtype: int64\n",
      "1    6\n",
      "2    5\n",
      "3    5\n",
      "Name: AgeClass, dtype: int64\n",
      "2    13\n",
      "1    13\n",
      "3     9\n",
      "Name: AgeClass, dtype: int64\n",
      "1    59\n",
      "3    53\n",
      "2    45\n",
      "Name: AgeClass, dtype: int64\n",
      "2    118\n",
      "1    109\n",
      "3     75\n",
      "Name: AgeClass, dtype: int64\n",
      "1    6\n",
      "2    6\n",
      "3    5\n",
      "Name: AgeClass, dtype: int64\n",
      "1    13\n",
      "2    13\n",
      "3     8\n",
      "Name: AgeClass, dtype: int64\n",
      "1    59\n",
      "3    52\n",
      "2    46\n",
      "Name: AgeClass, dtype: int64\n",
      "2    117\n",
      "1    110\n",
      "3     75\n",
      "Name: AgeClass, dtype: int64\n",
      "1    6\n",
      "3    6\n",
      "2    5\n",
      "Name: AgeClass, dtype: int64\n",
      "2    14\n",
      "1    12\n",
      "3     8\n",
      "Name: AgeClass, dtype: int64\n",
      "1    58\n",
      "3    52\n",
      "2    46\n",
      "Name: AgeClass, dtype: int64\n",
      "2    118\n",
      "1    110\n",
      "3     75\n",
      "Name: AgeClass, dtype: int64\n",
      "1    7\n",
      "3    6\n",
      "2    5\n",
      "Name: AgeClass, dtype: int64\n",
      "2    13\n",
      "1    12\n",
      "3     8\n",
      "Name: AgeClass, dtype: int64\n",
      "1    58\n",
      "3    52\n",
      "2    46\n",
      "Name: AgeClass, dtype: int64\n",
      "2    118\n",
      "1    110\n",
      "3     75\n",
      "Name: AgeClass, dtype: int64\n",
      "1    7\n",
      "3    6\n",
      "2    5\n",
      "Name: AgeClass, dtype: int64\n",
      "2    13\n",
      "1    12\n",
      "3     8\n",
      "Name: AgeClass, dtype: int64\n",
      "1    58\n",
      "3    52\n",
      "2    46\n",
      "Name: AgeClass, dtype: int64\n",
      "2    118\n",
      "1    110\n",
      "3     75\n",
      "Name: AgeClass, dtype: int64\n",
      "1    7\n",
      "3    6\n",
      "2    5\n",
      "Name: AgeClass, dtype: int64\n",
      "2    13\n",
      "1    12\n",
      "3     8\n",
      "Name: AgeClass, dtype: int64\n",
      "1    58\n",
      "3    52\n",
      "2    46\n",
      "Name: AgeClass, dtype: int64\n",
      "2    118\n",
      "1    110\n",
      "3     75\n",
      "Name: AgeClass, dtype: int64\n",
      "1    7\n",
      "3    6\n",
      "2    5\n",
      "Name: AgeClass, dtype: int64\n",
      "2    13\n",
      "1    12\n",
      "3     8\n",
      "Name: AgeClass, dtype: int64\n",
      "1    58\n",
      "3    52\n",
      "2    46\n",
      "Name: AgeClass, dtype: int64\n",
      "2    118\n",
      "1    110\n",
      "3     75\n",
      "Name: AgeClass, dtype: int64\n",
      "1    7\n",
      "3    6\n",
      "2    5\n",
      "Name: AgeClass, dtype: int64\n",
      "2    13\n",
      "1    12\n",
      "3     8\n",
      "Name: AgeClass, dtype: int64\n",
      "1    59\n",
      "3    52\n",
      "2    46\n",
      "Name: AgeClass, dtype: int64\n",
      "2    118\n",
      "1    110\n",
      "3     74\n",
      "Name: AgeClass, dtype: int64\n",
      "3    6\n",
      "1    6\n",
      "2    5\n",
      "Name: AgeClass, dtype: int64\n",
      "2    13\n",
      "1    12\n",
      "3     9\n",
      "Name: AgeClass, dtype: int64\n",
      "1    59\n",
      "3    52\n",
      "2    46\n",
      "Name: AgeClass, dtype: int64\n",
      "2    118\n",
      "1    110\n",
      "3     74\n",
      "Name: AgeClass, dtype: int64\n",
      "1    6\n",
      "3    6\n",
      "2    5\n",
      "Name: AgeClass, dtype: int64\n",
      "2    13\n",
      "1    12\n",
      "3     9\n",
      "Name: AgeClass, dtype: int64\n"
     ]
    }
   ],
   "source": [
    "for train, test in kfold_list:\n",
    "    train_fem = train[train[\"GenderClass\"]==1]\n",
    "    train_masc = train[train[\"GenderClass\"]==0]\n",
    "    print(train_fem[\"AgeClass\"].value_counts())\n",
    "    print(train_masc[\"AgeClass\"].value_counts())\n",
    "\n",
    "    test_fem = test[test[\"GenderClass\"]==1]\n",
    "    test_masc = test[test[\"GenderClass\"]==0]\n",
    "    print(test_fem[\"AgeClass\"].value_counts())\n",
    "    print(test_masc[\"AgeClass\"].value_counts())"
   ]
  },
  {
   "cell_type": "markdown",
   "metadata": {},
   "source": [
    "### Salvar em arquivo"
   ]
  },
  {
   "cell_type": "code",
   "execution_count": 54,
   "metadata": {},
   "outputs": [],
   "source": [
    "def create_split_csv(l, path):\n",
    "    import os\n",
    "    import shutil\n",
    "\n",
    "    root_folder = path\n",
    "    folder_name = \"k_\"\n",
    "    file_name1 = \"train\"\n",
    "    file_name2 = \"test\"\n",
    "    k = 1\n",
    "\n",
    "    for training, test in l:\n",
    "        path = os.path.join(root_folder, (folder_name+str(k)))\n",
    "        if(os.path.exists(path)):\n",
    "            shutil.rmtree(path)\n",
    "        os.mkdir(path)\n",
    "\n",
    "        training.to_csv((path+\"/\"+file_name1+\".csv\"), index = False, header=True)\n",
    "        test.to_csv((path+\"/\"+file_name2+\".csv\"), index = False, header=True)\n",
    "\n",
    "        k+=1"
   ]
  },
  {
   "cell_type": "code",
   "execution_count": 55,
   "metadata": {},
   "outputs": [],
   "source": [
    "create_split_csv(kfold_list, \"C:/Users/alici/Documents/tcc/github2/tcc-v2/brmoral/particoes\")"
   ]
  }
 ],
 "metadata": {
  "interpreter": {
   "hash": "ac26e9ee9434047e2b6179ca7c094dd6d7a5c4307efa62cbdc343ee78cec5e23"
  },
  "kernelspec": {
   "display_name": "Python 3.9.6 64-bit",
   "language": "python",
   "name": "python3"
  },
  "language_info": {
   "codemirror_mode": {
    "name": "ipython",
    "version": 3
   },
   "file_extension": ".py",
   "mimetype": "text/x-python",
   "name": "python",
   "nbconvert_exporter": "python",
   "pygments_lexer": "ipython3",
   "version": "3.9.6"
  },
  "orig_nbformat": 4
 },
 "nbformat": 4,
 "nbformat_minor": 2
}
