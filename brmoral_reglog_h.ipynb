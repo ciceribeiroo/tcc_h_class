{
 "cells": [
  {
   "cell_type": "code",
   "execution_count": 1,
   "metadata": {},
   "outputs": [
    {
     "name": "stderr",
     "output_type": "stream",
     "text": [
      "[nltk_data] Downloading package stopwords to\n",
      "[nltk_data]     C:\\Users\\alici\\AppData\\Roaming\\nltk_data...\n",
      "[nltk_data]   Package stopwords is already up-to-date!\n"
     ]
    }
   ],
   "source": [
    "import pandas as pd\n",
    "from sklearn.feature_extraction.text import TfidfVectorizer\n",
    "from imblearn.over_sampling import SMOTE\n",
    "from sklearn.linear_model import LogisticRegression\n",
    "from sklearn import metrics\n",
    "import nltk\n",
    "import numpy as np\n",
    "from sklearn.model_selection import GridSearchCV\n",
    "nltk.download('stopwords')\n",
    "stopwords = nltk.corpus.stopwords.words('portuguese')\n"
   ]
  },
  {
   "cell_type": "code",
   "execution_count": 2,
   "metadata": {},
   "outputs": [],
   "source": [
    "def remove_stopwords(text):\n",
    "    all_words = text.split(\" \")\n",
    "    clean_text = [i for i in all_words if i not in stopwords and i!=\"\"]\n",
    "    return \" \".join(clean_text)"
   ]
  },
  {
   "cell_type": "code",
   "execution_count": 3,
   "metadata": {},
   "outputs": [],
   "source": [
    "def remove_html_tags(text):\n",
    "    import re\n",
    "    clean = re.compile('<.*?>')\n",
    "    return re.sub(clean, '', text)"
   ]
  },
  {
   "cell_type": "code",
   "execution_count": 4,
   "metadata": {},
   "outputs": [],
   "source": [
    "def lower_texts(text):\n",
    "    return text.lower()"
   ]
  },
  {
   "cell_type": "code",
   "execution_count": 5,
   "metadata": {},
   "outputs": [],
   "source": [
    "def clean_text(text):\n",
    "    clean_text = remove_stopwords(text)\n",
    "    clean_text = remove_html_tags(clean_text)\n",
    "    clean_text = lower_texts(clean_text)\n",
    "    return clean_text"
   ]
  },
  {
   "cell_type": "code",
   "execution_count": 6,
   "metadata": {},
   "outputs": [],
   "source": [
    "def formatTime(seg):\n",
    "    min = seg//60\n",
    "    seg = seg % 60\n",
    "    return str(min)+\"min\"+str(round(seg, 2))+\"s\""
   ]
  },
  {
   "cell_type": "code",
   "execution_count": 28,
   "metadata": {},
   "outputs": [
    {
     "name": "stdout",
     "output_type": "stream",
     "text": [
      "\n",
      "0.45951650051155857\n",
      "0.4202717652717653\n",
      "0.4704187039928619\n",
      "0.4803769480102453\n"
     ]
    }
   ],
   "source": [
    "age = []\n",
    "age_fem = []\n",
    "age_masc = []\n",
    "age_sep = []\n",
    "\n",
    "for i in range(10):\n",
    "    df_train = pd.read_csv(r'C:\\Users\\alici\\Documents\\tcc\\github2\\tcc-v2\\brmoral\\particoes\\k_'+str(i+1)+r'\\train.csv')\n",
    "    df_test = pd.read_csv(r'C:\\Users\\alici\\Documents\\tcc\\github2\\tcc-v2\\brmoral\\particoes\\k_'+str(i+1)+r'\\test.csv')\n",
    "    \n",
    "    X_train = df_train['concat'].apply(clean_text).to_numpy()\n",
    "    X_test = df_test['concat'].apply(clean_text).to_numpy()\n",
    "    y_train_gender = df_train['GenderClass']\n",
    "    y_test_gender = df_test['GenderClass']\n",
    "\n",
    "    tfidfvec_gender = TfidfVectorizer(max_df=0.8)\n",
    "    tfidf_train_gender = tfidfvec_gender.fit_transform(X_train)\n",
    "    tfidf_test_gender = tfidfvec_gender.transform(X_test)\n",
    "\n",
    "    logisticRegr_gender = LogisticRegression(penalty='l2', C=5714.28, solver='lbfgs', multi_class='multinomial')\n",
    "    logisticRegr_gender.fit(tfidf_train_gender, y_train_gender)\n",
    "    pred_gender=logisticRegr_gender.predict(tfidf_test_gender)\n",
    "\n",
    "    # f1 = metrics.f1_score(y_test_gender, pred_gender, average='macro')\n",
    "    # f1_list.append(f1)\n",
    "    # print(f1)\n",
    "\n",
    "    y_train_age = df_train['AgeClass']\n",
    "    y_test_age = df_test['AgeClass']\n",
    "\n",
    "    tfidfvec_age = TfidfVectorizer(max_features = 1000, max_df=0.8)\n",
    "    tfidf_train_age = tfidfvec_age.fit_transform(X_train)\n",
    "    tfidf_test_age = tfidfvec_age.transform(X_test)\n",
    "\n",
    "    logisticRegr_age = LogisticRegression(penalty='l2', C=2857.14, solver='liblinear')\n",
    "    logisticRegr_age.fit(tfidf_train_age, y_train_age)\n",
    "    pred_age=logisticRegr_age.predict(tfidf_test_age)\n",
    "\n",
    "    f1 = metrics.f1_score(y_test_age, pred_age, average='macro')\n",
    "    age.append(f1)\n",
    "\n",
    "    df_test[\"PredictGender\"] = pred_gender\n",
    "\n",
    "    df_train_fem = df_train[df_train[\"GenderClass\"]==1]\n",
    "    df_train_masc = df_train[df_train[\"GenderClass\"]==0]\n",
    "\n",
    "    df_test_fem = df_test[df_test[\"PredictGender\"]==1]\n",
    "    df_test_masc = df_test[df_test[\"PredictGender\"]==0]\n",
    "\n",
    "    X_train_fem = df_train_fem['concat'].apply(clean_text).to_numpy()\n",
    "    X_test_fem = df_test_fem['concat'].apply(clean_text).to_numpy()\n",
    "    y_train_fem = df_train_fem['AgeClass']\n",
    "    y_test_fem = df_test_fem['AgeClass']\n",
    "\n",
    "    tfidfvec_fem = TfidfVectorizer(max_features = 1000, max_df=0.8)\n",
    "    tfidf_train_fem = tfidfvec_fem.fit_transform(X_train_fem)\n",
    "    tfidf_test_fem = tfidfvec_fem.transform(X_test_fem)\n",
    "\n",
    "    logisticRegr_fem = LogisticRegression(penalty='l2', C=2857.14, solver='liblinear')\n",
    "    logisticRegr_fem.fit(tfidf_train_fem, y_train_fem)\n",
    "    pred_fem=logisticRegr_fem.predict(tfidf_test_fem)\n",
    "\n",
    "    f1 = metrics.f1_score(y_test_fem, pred_fem, average='macro')\n",
    "    age_fem.append(f1)\n",
    "\n",
    "    X_train_masc = df_train_masc['concat'].apply(clean_text).to_numpy()\n",
    "    X_test_masc = df_test_masc['concat'].apply(clean_text).to_numpy()\n",
    "    y_train_masc = df_train_masc['AgeClass']\n",
    "    y_test_masc = df_test_masc['AgeClass']\n",
    "\n",
    "    tfidfvec_masc = TfidfVectorizer(max_features = 1000, max_df=0.8)\n",
    "    tfidf_train_masc = tfidfvec_masc.fit_transform(X_train_masc)\n",
    "    tfidf_test_masc = tfidfvec_masc.transform(X_test_masc)\n",
    "\n",
    "    logisticRegr_masc = LogisticRegression(penalty='l2', C=2857.14, solver='liblinear')\n",
    "    logisticRegr_masc.fit(tfidf_train_masc, y_train_masc)\n",
    "    pred_masc=logisticRegr_masc.predict(tfidf_test_masc)\n",
    "\n",
    "    f1 = metrics.f1_score(y_test_masc, pred_masc, average='macro')\n",
    "    age_masc.append(f1)\n",
    "\n",
    "    pred_ages_sep = pred_fem.tolist() + pred_masc.tolist()\n",
    "    y_test = y_test_fem.to_list() +  y_test_masc.to_list()\n",
    "    age_sep.append(metrics.f1_score(y_test, pred_ages_sep, average='macro'))\n",
    "\n",
    "\n",
    "print()\n",
    "print(sum(age)/len(age))\n",
    "print(sum(age_fem)/len(age_fem))\n",
    "print(sum(age_masc)/len(age_masc))\n",
    "print(sum(age_sep)/len(age_sep))"
   ]
  },
  {
   "cell_type": "code",
   "execution_count": null,
   "metadata": {},
   "outputs": [],
   "source": [
    "# GridSearch para genero\n",
    "import json\n",
    "import time\n",
    "\n",
    "best_param_dict = dict()\n",
    "\n",
    "start = time.time()\n",
    "\n",
    "grid = dict()\n",
    "grid[\"C\"] = (np.logspace(-3,3,7).tolist() + [5714.28]) \n",
    "grid[\"penalty\"] = [\"l2\", \"l1\", \"none\"]\n",
    "best_param_dict[\"grid_values\"] = grid\n",
    "\n",
    "for i in range(10):\n",
    "    df_train = pd.read_csv('C:/Users/alici/Documents/tcc/github2/tcc-v2/brmoral/particoes/k_'+str(i+1)+'/train.csv')\n",
    "    df_test = pd.read_csv('C:/Users/alici/Documents/tcc/github2/tcc-v2/brmoral/particoes/k_'+str(i+1)+'/test.csv')\n",
    "    \n",
    "    X_train = df_train['concat'].apply(clean_text).to_numpy()\n",
    "    X_test = df_test['concat'].apply(clean_text).to_numpy()\n",
    "    y_train_gender = df_train['GenderClass']\n",
    "    y_test_gender = df_test['GenderClass']\n",
    "\n",
    "    tfidfvec_gender = TfidfVectorizer(max_df=0.8)\n",
    "    tfidf_train_gender = tfidfvec_gender.fit_transform(X_train)\n",
    "    tfidf_test_gender = tfidfvec_gender.transform(X_test)\n",
    "\n",
    "    logreg=LogisticRegression(solver='lbfgs', multi_class='multinomial')\n",
    "    logreg_cv=GridSearchCV(logreg,grid,cv=10, scoring='f1_macro')\n",
    "    logreg_cv.fit(tfidf_train_gender, y_train_gender)\n",
    "    \n",
    "    param_dict = dict()\n",
    "    param_dict[\"params\"] =  logreg_cv.best_params_\n",
    "    param_dict[\"f1\"] = logreg_cv.best_score_\n",
    "    best_param_dict[\"k_\"+str(i+1)] = param_dict\n",
    "\n",
    "    print(\"tuned hpyerparameters :(best parameters) \",logreg_cv.best_params_)\n",
    "    print(\"f1 :\",logreg_cv.best_score_)\n",
    "\n",
    "end = time.time()\n",
    "best_param_dict[\"time\"] = formatTime(end-start)\n",
    "\n",
    "with open('brmoral/gender.json', 'w') as f:\n",
    "    json.dump(best_param_dict, f, indent=4)\n",
    "    "
   ]
  },
  {
   "cell_type": "code",
   "execution_count": 10,
   "metadata": {},
   "outputs": [],
   "source": [
    "with open('brmoral/gender.json', encoding='utf-8') as f:\n",
    "    gender_param = json.load(f)"
   ]
  },
  {
   "cell_type": "code",
   "execution_count": 15,
   "metadata": {},
   "outputs": [
    {
     "name": "stderr",
     "output_type": "stream",
     "text": [
      "c:\\Users\\alici\\AppData\\Local\\Programs\\Python\\Python39\\lib\\site-packages\\sklearn\\svm\\_base.py:1225: ConvergenceWarning: Liblinear failed to converge, increase the number of iterations.\n",
      "  warnings.warn(\n",
      "c:\\Users\\alici\\AppData\\Local\\Programs\\Python\\Python39\\lib\\site-packages\\sklearn\\svm\\_base.py:1225: ConvergenceWarning: Liblinear failed to converge, increase the number of iterations.\n",
      "  warnings.warn(\n",
      "c:\\Users\\alici\\AppData\\Local\\Programs\\Python\\Python39\\lib\\site-packages\\sklearn\\svm\\_base.py:1225: ConvergenceWarning: Liblinear failed to converge, increase the number of iterations.\n",
      "  warnings.warn(\n",
      "c:\\Users\\alici\\AppData\\Local\\Programs\\Python\\Python39\\lib\\site-packages\\sklearn\\svm\\_base.py:1225: ConvergenceWarning: Liblinear failed to converge, increase the number of iterations.\n",
      "  warnings.warn(\n",
      "c:\\Users\\alici\\AppData\\Local\\Programs\\Python\\Python39\\lib\\site-packages\\sklearn\\svm\\_base.py:1225: ConvergenceWarning: Liblinear failed to converge, increase the number of iterations.\n",
      "  warnings.warn(\n",
      "c:\\Users\\alici\\AppData\\Local\\Programs\\Python\\Python39\\lib\\site-packages\\sklearn\\svm\\_base.py:1225: ConvergenceWarning: Liblinear failed to converge, increase the number of iterations.\n",
      "  warnings.warn(\n"
     ]
    },
    {
     "name": "stdout",
     "output_type": "stream",
     "text": [
      "tuned hpyerparameters :(best parameters)  {'C': 10.0, 'penalty': 'l2'}\n",
      "f1 : 0.24888888888888888\n",
      "tuned hpyerparameters :(best parameters)  {'C': 2857.14, 'penalty': 'l1'}\n",
      "f1 : 0.28253968253968254\n"
     ]
    },
    {
     "name": "stderr",
     "output_type": "stream",
     "text": [
      "c:\\Users\\alici\\AppData\\Local\\Programs\\Python\\Python39\\lib\\site-packages\\sklearn\\svm\\_base.py:1225: ConvergenceWarning: Liblinear failed to converge, increase the number of iterations.\n",
      "  warnings.warn(\n",
      "c:\\Users\\alici\\AppData\\Local\\Programs\\Python\\Python39\\lib\\site-packages\\sklearn\\svm\\_base.py:1225: ConvergenceWarning: Liblinear failed to converge, increase the number of iterations.\n",
      "  warnings.warn(\n",
      "c:\\Users\\alici\\AppData\\Local\\Programs\\Python\\Python39\\lib\\site-packages\\sklearn\\svm\\_base.py:1225: ConvergenceWarning: Liblinear failed to converge, increase the number of iterations.\n",
      "  warnings.warn(\n",
      "c:\\Users\\alici\\AppData\\Local\\Programs\\Python\\Python39\\lib\\site-packages\\sklearn\\svm\\_base.py:1225: ConvergenceWarning: Liblinear failed to converge, increase the number of iterations.\n",
      "  warnings.warn(\n",
      "c:\\Users\\alici\\AppData\\Local\\Programs\\Python\\Python39\\lib\\site-packages\\sklearn\\svm\\_base.py:1225: ConvergenceWarning: Liblinear failed to converge, increase the number of iterations.\n",
      "  warnings.warn(\n",
      "c:\\Users\\alici\\AppData\\Local\\Programs\\Python\\Python39\\lib\\site-packages\\sklearn\\svm\\_base.py:1225: ConvergenceWarning: Liblinear failed to converge, increase the number of iterations.\n",
      "  warnings.warn(\n"
     ]
    },
    {
     "name": "stdout",
     "output_type": "stream",
     "text": [
      "tuned hpyerparameters :(best parameters)  {'C': 2857.14, 'penalty': 'l2'}\n",
      "f1 : 0.40444444444444444\n"
     ]
    },
    {
     "name": "stderr",
     "output_type": "stream",
     "text": [
      "c:\\Users\\alici\\AppData\\Local\\Programs\\Python\\Python39\\lib\\site-packages\\sklearn\\svm\\_base.py:1225: ConvergenceWarning: Liblinear failed to converge, increase the number of iterations.\n",
      "  warnings.warn(\n",
      "c:\\Users\\alici\\AppData\\Local\\Programs\\Python\\Python39\\lib\\site-packages\\sklearn\\svm\\_base.py:1225: ConvergenceWarning: Liblinear failed to converge, increase the number of iterations.\n",
      "  warnings.warn(\n",
      "c:\\Users\\alici\\AppData\\Local\\Programs\\Python\\Python39\\lib\\site-packages\\sklearn\\svm\\_base.py:1225: ConvergenceWarning: Liblinear failed to converge, increase the number of iterations.\n",
      "  warnings.warn(\n",
      "c:\\Users\\alici\\AppData\\Local\\Programs\\Python\\Python39\\lib\\site-packages\\sklearn\\svm\\_base.py:1225: ConvergenceWarning: Liblinear failed to converge, increase the number of iterations.\n",
      "  warnings.warn(\n",
      "c:\\Users\\alici\\AppData\\Local\\Programs\\Python\\Python39\\lib\\site-packages\\sklearn\\svm\\_base.py:1225: ConvergenceWarning: Liblinear failed to converge, increase the number of iterations.\n",
      "  warnings.warn(\n",
      "c:\\Users\\alici\\AppData\\Local\\Programs\\Python\\Python39\\lib\\site-packages\\sklearn\\svm\\_base.py:1225: ConvergenceWarning: Liblinear failed to converge, increase the number of iterations.\n",
      "  warnings.warn(\n"
     ]
    },
    {
     "name": "stdout",
     "output_type": "stream",
     "text": [
      "tuned hpyerparameters :(best parameters)  {'C': 2857.14, 'penalty': 'l1'}\n",
      "f1 : 0.36682539682539683\n"
     ]
    },
    {
     "name": "stderr",
     "output_type": "stream",
     "text": [
      "c:\\Users\\alici\\AppData\\Local\\Programs\\Python\\Python39\\lib\\site-packages\\sklearn\\svm\\_base.py:1225: ConvergenceWarning: Liblinear failed to converge, increase the number of iterations.\n",
      "  warnings.warn(\n",
      "c:\\Users\\alici\\AppData\\Local\\Programs\\Python\\Python39\\lib\\site-packages\\sklearn\\svm\\_base.py:1225: ConvergenceWarning: Liblinear failed to converge, increase the number of iterations.\n",
      "  warnings.warn(\n",
      "c:\\Users\\alici\\AppData\\Local\\Programs\\Python\\Python39\\lib\\site-packages\\sklearn\\svm\\_base.py:1225: ConvergenceWarning: Liblinear failed to converge, increase the number of iterations.\n",
      "  warnings.warn(\n",
      "c:\\Users\\alici\\AppData\\Local\\Programs\\Python\\Python39\\lib\\site-packages\\sklearn\\svm\\_base.py:1225: ConvergenceWarning: Liblinear failed to converge, increase the number of iterations.\n",
      "  warnings.warn(\n",
      "c:\\Users\\alici\\AppData\\Local\\Programs\\Python\\Python39\\lib\\site-packages\\sklearn\\svm\\_base.py:1225: ConvergenceWarning: Liblinear failed to converge, increase the number of iterations.\n",
      "  warnings.warn(\n",
      "c:\\Users\\alici\\AppData\\Local\\Programs\\Python\\Python39\\lib\\site-packages\\sklearn\\svm\\_base.py:1225: ConvergenceWarning: Liblinear failed to converge, increase the number of iterations.\n",
      "  warnings.warn(\n"
     ]
    },
    {
     "name": "stdout",
     "output_type": "stream",
     "text": [
      "tuned hpyerparameters :(best parameters)  {'C': 2857.14, 'penalty': 'l1'}\n",
      "f1 : 0.5222222222222223\n"
     ]
    },
    {
     "name": "stderr",
     "output_type": "stream",
     "text": [
      "c:\\Users\\alici\\AppData\\Local\\Programs\\Python\\Python39\\lib\\site-packages\\sklearn\\svm\\_base.py:1225: ConvergenceWarning: Liblinear failed to converge, increase the number of iterations.\n",
      "  warnings.warn(\n",
      "c:\\Users\\alici\\AppData\\Local\\Programs\\Python\\Python39\\lib\\site-packages\\sklearn\\svm\\_base.py:1225: ConvergenceWarning: Liblinear failed to converge, increase the number of iterations.\n",
      "  warnings.warn(\n",
      "c:\\Users\\alici\\AppData\\Local\\Programs\\Python\\Python39\\lib\\site-packages\\sklearn\\svm\\_base.py:1225: ConvergenceWarning: Liblinear failed to converge, increase the number of iterations.\n",
      "  warnings.warn(\n",
      "c:\\Users\\alici\\AppData\\Local\\Programs\\Python\\Python39\\lib\\site-packages\\sklearn\\svm\\_base.py:1225: ConvergenceWarning: Liblinear failed to converge, increase the number of iterations.\n",
      "  warnings.warn(\n",
      "c:\\Users\\alici\\AppData\\Local\\Programs\\Python\\Python39\\lib\\site-packages\\sklearn\\svm\\_base.py:1225: ConvergenceWarning: Liblinear failed to converge, increase the number of iterations.\n",
      "  warnings.warn(\n",
      "c:\\Users\\alici\\AppData\\Local\\Programs\\Python\\Python39\\lib\\site-packages\\sklearn\\svm\\_base.py:1225: ConvergenceWarning: Liblinear failed to converge, increase the number of iterations.\n",
      "  warnings.warn(\n"
     ]
    },
    {
     "name": "stdout",
     "output_type": "stream",
     "text": [
      "tuned hpyerparameters :(best parameters)  {'C': 100.0, 'penalty': 'l2'}\n",
      "f1 : 0.325079365079365\n"
     ]
    },
    {
     "name": "stderr",
     "output_type": "stream",
     "text": [
      "c:\\Users\\alici\\AppData\\Local\\Programs\\Python\\Python39\\lib\\site-packages\\sklearn\\svm\\_base.py:1225: ConvergenceWarning: Liblinear failed to converge, increase the number of iterations.\n",
      "  warnings.warn(\n",
      "c:\\Users\\alici\\AppData\\Local\\Programs\\Python\\Python39\\lib\\site-packages\\sklearn\\svm\\_base.py:1225: ConvergenceWarning: Liblinear failed to converge, increase the number of iterations.\n",
      "  warnings.warn(\n",
      "c:\\Users\\alici\\AppData\\Local\\Programs\\Python\\Python39\\lib\\site-packages\\sklearn\\svm\\_base.py:1225: ConvergenceWarning: Liblinear failed to converge, increase the number of iterations.\n",
      "  warnings.warn(\n",
      "c:\\Users\\alici\\AppData\\Local\\Programs\\Python\\Python39\\lib\\site-packages\\sklearn\\svm\\_base.py:1225: ConvergenceWarning: Liblinear failed to converge, increase the number of iterations.\n",
      "  warnings.warn(\n",
      "c:\\Users\\alici\\AppData\\Local\\Programs\\Python\\Python39\\lib\\site-packages\\sklearn\\svm\\_base.py:1225: ConvergenceWarning: Liblinear failed to converge, increase the number of iterations.\n",
      "  warnings.warn(\n",
      "c:\\Users\\alici\\AppData\\Local\\Programs\\Python\\Python39\\lib\\site-packages\\sklearn\\svm\\_base.py:1225: ConvergenceWarning: Liblinear failed to converge, increase the number of iterations.\n",
      "  warnings.warn(\n"
     ]
    },
    {
     "name": "stdout",
     "output_type": "stream",
     "text": [
      "tuned hpyerparameters :(best parameters)  {'C': 1000.0, 'penalty': 'l2'}\n",
      "f1 : 0.27222222222222225\n"
     ]
    },
    {
     "name": "stderr",
     "output_type": "stream",
     "text": [
      "c:\\Users\\alici\\AppData\\Local\\Programs\\Python\\Python39\\lib\\site-packages\\sklearn\\svm\\_base.py:1225: ConvergenceWarning: Liblinear failed to converge, increase the number of iterations.\n",
      "  warnings.warn(\n",
      "c:\\Users\\alici\\AppData\\Local\\Programs\\Python\\Python39\\lib\\site-packages\\sklearn\\svm\\_base.py:1225: ConvergenceWarning: Liblinear failed to converge, increase the number of iterations.\n",
      "  warnings.warn(\n",
      "c:\\Users\\alici\\AppData\\Local\\Programs\\Python\\Python39\\lib\\site-packages\\sklearn\\svm\\_base.py:1225: ConvergenceWarning: Liblinear failed to converge, increase the number of iterations.\n",
      "  warnings.warn(\n",
      "c:\\Users\\alici\\AppData\\Local\\Programs\\Python\\Python39\\lib\\site-packages\\sklearn\\svm\\_base.py:1225: ConvergenceWarning: Liblinear failed to converge, increase the number of iterations.\n",
      "  warnings.warn(\n",
      "c:\\Users\\alici\\AppData\\Local\\Programs\\Python\\Python39\\lib\\site-packages\\sklearn\\svm\\_base.py:1225: ConvergenceWarning: Liblinear failed to converge, increase the number of iterations.\n",
      "  warnings.warn(\n",
      "c:\\Users\\alici\\AppData\\Local\\Programs\\Python\\Python39\\lib\\site-packages\\sklearn\\svm\\_base.py:1225: ConvergenceWarning: Liblinear failed to converge, increase the number of iterations.\n",
      "  warnings.warn(\n"
     ]
    },
    {
     "name": "stdout",
     "output_type": "stream",
     "text": [
      "tuned hpyerparameters :(best parameters)  {'C': 100.0, 'penalty': 'l1'}\n",
      "f1 : 0.35777777777777786\n"
     ]
    },
    {
     "name": "stderr",
     "output_type": "stream",
     "text": [
      "c:\\Users\\alici\\AppData\\Local\\Programs\\Python\\Python39\\lib\\site-packages\\sklearn\\svm\\_base.py:1225: ConvergenceWarning: Liblinear failed to converge, increase the number of iterations.\n",
      "  warnings.warn(\n",
      "c:\\Users\\alici\\AppData\\Local\\Programs\\Python\\Python39\\lib\\site-packages\\sklearn\\svm\\_base.py:1225: ConvergenceWarning: Liblinear failed to converge, increase the number of iterations.\n",
      "  warnings.warn(\n",
      "c:\\Users\\alici\\AppData\\Local\\Programs\\Python\\Python39\\lib\\site-packages\\sklearn\\svm\\_base.py:1225: ConvergenceWarning: Liblinear failed to converge, increase the number of iterations.\n",
      "  warnings.warn(\n",
      "c:\\Users\\alici\\AppData\\Local\\Programs\\Python\\Python39\\lib\\site-packages\\sklearn\\svm\\_base.py:1225: ConvergenceWarning: Liblinear failed to converge, increase the number of iterations.\n",
      "  warnings.warn(\n"
     ]
    },
    {
     "name": "stdout",
     "output_type": "stream",
     "text": [
      "tuned hpyerparameters :(best parameters)  {'C': 10.0, 'penalty': 'l1'}\n",
      "f1 : 0.2923809523809524\n"
     ]
    },
    {
     "name": "stderr",
     "output_type": "stream",
     "text": [
      "c:\\Users\\alici\\AppData\\Local\\Programs\\Python\\Python39\\lib\\site-packages\\sklearn\\svm\\_base.py:1225: ConvergenceWarning: Liblinear failed to converge, increase the number of iterations.\n",
      "  warnings.warn(\n",
      "c:\\Users\\alici\\AppData\\Local\\Programs\\Python\\Python39\\lib\\site-packages\\sklearn\\svm\\_base.py:1225: ConvergenceWarning: Liblinear failed to converge, increase the number of iterations.\n",
      "  warnings.warn(\n",
      "c:\\Users\\alici\\AppData\\Local\\Programs\\Python\\Python39\\lib\\site-packages\\sklearn\\svm\\_base.py:1225: ConvergenceWarning: Liblinear failed to converge, increase the number of iterations.\n",
      "  warnings.warn(\n",
      "c:\\Users\\alici\\AppData\\Local\\Programs\\Python\\Python39\\lib\\site-packages\\sklearn\\svm\\_base.py:1225: ConvergenceWarning: Liblinear failed to converge, increase the number of iterations.\n",
      "  warnings.warn(\n"
     ]
    },
    {
     "name": "stdout",
     "output_type": "stream",
     "text": [
      "tuned hpyerparameters :(best parameters)  {'C': 10.0, 'penalty': 'l2'}\n",
      "f1 : 0.3077777777777778\n"
     ]
    }
   ],
   "source": [
    "# GridSearch para idade\n",
    "import json\n",
    "import time\n",
    "\n",
    "best_param_dict = dict()\n",
    "\n",
    "start = time.time()\n",
    "\n",
    "grid = dict()\n",
    "grid[\"C\"] = (np.logspace(-3,3,7).tolist() + [2857.14])\n",
    "grid[\"penalty\"] = [\"l1\", \"l2\"]\n",
    "best_param_dict[\"grid_values\"] = grid\n",
    "\n",
    "for i in range(10):\n",
    "    df_train = pd.read_csv('C:/Users/alici/Documents/tcc/github2/tcc-v2/brmoral/particoes/k_'+str(i+1)+'/train.csv')\n",
    "    df_test = pd.read_csv('C:/Users/alici/Documents/tcc/github2/tcc-v2/brmoral/particoes/k_'+str(i+1)+'/test.csv')\n",
    "    \n",
    "    X_train = df_train['concat'].apply(clean_text).to_numpy()\n",
    "    X_test = df_test['concat'].apply(clean_text).to_numpy()\n",
    "\n",
    "    y_train_age = df_train['AgeClass']\n",
    "    y_test_age = df_test['AgeClass']\n",
    "\n",
    "    tfidfvec_age = TfidfVectorizer(max_features = 1000, max_df=0.8)\n",
    "    tfidf_train_age = tfidfvec_age.fit_transform(X_train)\n",
    "    tfidf_test_age = tfidfvec_age.transform(X_test)\n",
    "\n",
    "    logreg=LogisticRegression(solver='liblinear')\n",
    "    logreg_cv=GridSearchCV(logreg,grid,cv=10, scoring='f1_macro')\n",
    "    logreg_cv.fit(tfidf_test_age, y_test_age)\n",
    "    \n",
    "    param_dict = dict()\n",
    "    param_dict[\"params\"] =  logreg_cv.best_params_\n",
    "    param_dict[\"f1\"] = logreg_cv.best_score_\n",
    "    best_param_dict[\"k_\"+str(i+1)] = param_dict\n",
    "\n",
    "    print(\"tuned hpyerparameters :(best parameters) \",logreg_cv.best_params_)\n",
    "    print(\"f1 :\",logreg_cv.best_score_)\n",
    "\n",
    "end = time.time()\n",
    "best_param_dict[\"time\"] = formatTime(end-start)\n",
    "\n",
    "with open('brmoral/age.json', 'w') as f:\n",
    "    json.dump(best_param_dict, f, indent=4)\n",
    "    "
   ]
  },
  {
   "cell_type": "code",
   "execution_count": 16,
   "metadata": {},
   "outputs": [
    {
     "name": "stdout",
     "output_type": "stream",
     "text": [
      "tuned hpyerparameters :(best parameters)  {'C': 1000.0, 'penalty': 'l2'}\n",
      "f1 : 0.4087347837347838\n",
      "tuned hpyerparameters :(best parameters)  {'C': 1000.0, 'penalty': 'l1'}\n",
      "f1 : 0.4060814185814186\n"
     ]
    },
    {
     "name": "stderr",
     "output_type": "stream",
     "text": [
      "c:\\Users\\alici\\AppData\\Local\\Programs\\Python\\Python39\\lib\\site-packages\\sklearn\\linear_model\\_logistic.py:1116: UserWarning: Setting penalty='none' will ignore the C and l1_ratio parameters\n",
      "  warnings.warn(\n"
     ]
    },
    {
     "name": "stdout",
     "output_type": "stream",
     "text": [
      "tuned hpyerparameters :(best parameters)  {'C': 10.0, 'penalty': 'l2'}\n",
      "f1 : 0.4339519739519739\n",
      "tuned hpyerparameters :(best parameters)  {'C': 100.0, 'penalty': 'l1'}\n",
      "f1 : 0.42203463203463204\n"
     ]
    },
    {
     "name": "stderr",
     "output_type": "stream",
     "text": [
      "c:\\Users\\alici\\AppData\\Local\\Programs\\Python\\Python39\\lib\\site-packages\\sklearn\\linear_model\\_logistic.py:1116: UserWarning: Setting penalty='none' will ignore the C and l1_ratio parameters\n",
      "  warnings.warn(\n"
     ]
    },
    {
     "name": "stdout",
     "output_type": "stream",
     "text": [
      "tuned hpyerparameters :(best parameters)  {'C': 10.0, 'penalty': 'l2'}\n",
      "f1 : 0.3918275950628892\n"
     ]
    },
    {
     "name": "stderr",
     "output_type": "stream",
     "text": [
      "c:\\Users\\alici\\AppData\\Local\\Programs\\Python\\Python39\\lib\\site-packages\\sklearn\\linear_model\\_logistic.py:1116: UserWarning: Setting penalty='none' will ignore the C and l1_ratio parameters\n",
      "  warnings.warn(\n"
     ]
    },
    {
     "name": "stdout",
     "output_type": "stream",
     "text": [
      "tuned hpyerparameters :(best parameters)  {'C': 100.0, 'penalty': 'l2'}\n",
      "f1 : 0.39372625196154604\n"
     ]
    },
    {
     "name": "stderr",
     "output_type": "stream",
     "text": [
      "c:\\Users\\alici\\AppData\\Local\\Programs\\Python\\Python39\\lib\\site-packages\\sklearn\\linear_model\\_logistic.py:1116: UserWarning: Setting penalty='none' will ignore the C and l1_ratio parameters\n",
      "  warnings.warn(\n"
     ]
    },
    {
     "name": "stdout",
     "output_type": "stream",
     "text": [
      "tuned hpyerparameters :(best parameters)  {'C': 10.0, 'penalty': 'l2'}\n",
      "f1 : 0.47868141118141116\n"
     ]
    },
    {
     "name": "stderr",
     "output_type": "stream",
     "text": [
      "c:\\Users\\alici\\AppData\\Local\\Programs\\Python\\Python39\\lib\\site-packages\\sklearn\\linear_model\\_logistic.py:1116: UserWarning: Setting penalty='none' will ignore the C and l1_ratio parameters\n",
      "  warnings.warn(\n"
     ]
    },
    {
     "name": "stdout",
     "output_type": "stream",
     "text": [
      "tuned hpyerparameters :(best parameters)  {'C': 2857.14, 'penalty': 'l1'}\n",
      "f1 : 0.41926776926776926\n"
     ]
    },
    {
     "name": "stderr",
     "output_type": "stream",
     "text": [
      "c:\\Users\\alici\\AppData\\Local\\Programs\\Python\\Python39\\lib\\site-packages\\sklearn\\linear_model\\_logistic.py:1116: UserWarning: Setting penalty='none' will ignore the C and l1_ratio parameters\n",
      "  warnings.warn(\n"
     ]
    },
    {
     "name": "stdout",
     "output_type": "stream",
     "text": [
      "tuned hpyerparameters :(best parameters)  {'C': 1.0, 'penalty': 'l2'}\n",
      "f1 : 0.38539735777351875\n"
     ]
    },
    {
     "name": "stderr",
     "output_type": "stream",
     "text": [
      "c:\\Users\\alici\\AppData\\Local\\Programs\\Python\\Python39\\lib\\site-packages\\sklearn\\linear_model\\_logistic.py:1116: UserWarning: Setting penalty='none' will ignore the C and l1_ratio parameters\n",
      "  warnings.warn(\n"
     ]
    },
    {
     "name": "stdout",
     "output_type": "stream",
     "text": [
      "tuned hpyerparameters :(best parameters)  {'C': 10.0, 'penalty': 'l2'}\n",
      "f1 : 0.43689086512615927\n"
     ]
    }
   ],
   "source": [
    "# GridSearch para fem\n",
    "import json\n",
    "import time\n",
    "\n",
    "best_param_dict = dict()\n",
    "\n",
    "start = time.time()\n",
    "\n",
    "grid = dict()\n",
    "grid[\"C\"] = (np.logspace(-3,3,7).tolist() + [2857.14])\n",
    "grid[\"penalty\"] = [\"l1\", \"l2\"]\n",
    "best_param_dict[\"grid_values\"] = grid\n",
    "\n",
    "for i in range(10):\n",
    "    df_train = pd.read_csv('C:/Users/alici/Documents/tcc/github2/tcc-v2/brmoral/particoes/k_'+str(i+1)+'/train.csv')\n",
    "    df_test = pd.read_csv('C:/Users/alici/Documents/tcc/github2/tcc-v2/brmoral/particoes/k_'+str(i+1)+'/test.csv')\n",
    "\n",
    "    X_train = df_train['concat'].apply(clean_text).to_numpy()\n",
    "    X_test = df_test['concat'].apply(clean_text).to_numpy()\n",
    "    y_train_gender = df_train['GenderClass']\n",
    "    y_test_gender = df_test['GenderClass']\n",
    "\n",
    "    tfidfvec_gender = TfidfVectorizer(max_df=0.8)\n",
    "    tfidf_train_gender = tfidfvec_gender.fit_transform(X_train)\n",
    "    tfidf_test_gender = tfidfvec_gender.transform(X_test)\n",
    "\n",
    "    logisticRegr_gender = LogisticRegression(penalty=gender_param[\"k_\"+str(i+1)][\"params\"][\"penalty\"], C=gender_param[\"k_\"+str(i+1)][\"params\"][\"C\"], solver='lbfgs', multi_class='multinomial')\n",
    "    logisticRegr_gender.fit(tfidf_train_gender, y_train_gender)\n",
    "    pred_gender=logisticRegr_gender.predict(tfidf_test_gender)\n",
    "    \n",
    "    df_test[\"PredictGender\"] = pred_gender\n",
    "\n",
    "    df_train_fem = df_train[df_train[\"GenderClass\"]==1]\n",
    "    df_test_fem = df_test[df_test[\"PredictGender\"]==1]\n",
    "\n",
    "    X_train_fem = df_train_fem['concat'].apply(clean_text).to_numpy()\n",
    "    X_test_fem = df_test_fem['concat'].apply(clean_text).to_numpy()\n",
    "    y_train_fem = df_train_fem['AgeClass']\n",
    "    y_test_fem = df_test_fem['AgeClass']\n",
    "\n",
    "    tfidfvec_fem = TfidfVectorizer(max_features = 1000, max_df=0.8)\n",
    "    tfidf_train_fem = tfidfvec_fem.fit_transform(X_train_fem)\n",
    "    tfidf_test_fem = tfidfvec_fem.transform(X_test_fem)\n",
    "\n",
    "    logreg=LogisticRegression(solver='liblinear')\n",
    "    logreg_cv=GridSearchCV(logreg,grid,cv=10, scoring='f1_macro')\n",
    "    logreg_cv.fit(tfidf_train_fem, y_train_fem)\n",
    "    \n",
    "    param_dict = dict()\n",
    "    param_dict[\"params\"] =  logreg_cv.best_params_\n",
    "    param_dict[\"f1\"] = logreg_cv.best_score_\n",
    "    best_param_dict[\"k_\"+str(i+1)] = param_dict\n",
    "\n",
    "    print(\"tuned hpyerparameters :(best parameters) \",logreg_cv.best_params_)\n",
    "    print(\"f1 :\",logreg_cv.best_score_)\n",
    "\n",
    "end = time.time()\n",
    "best_param_dict[\"time\"] = formatTime(end-start)\n",
    "\n",
    "with open('brmoral/age_fem.json', 'w') as f:\n",
    "    json.dump(best_param_dict, f, indent=4)\n",
    "    "
   ]
  },
  {
   "cell_type": "code",
   "execution_count": 21,
   "metadata": {},
   "outputs": [
    {
     "name": "stdout",
     "output_type": "stream",
     "text": [
      "tuned hpyerparameters :(best parameters)  {'C': 1000.0, 'penalty': 'l1'}\n",
      "f1 : 0.4882407832485951\n",
      "tuned hpyerparameters :(best parameters)  {'C': 2857.14, 'penalty': 'l1'}\n",
      "f1 : 0.4316928539062294\n"
     ]
    },
    {
     "name": "stderr",
     "output_type": "stream",
     "text": [
      "c:\\Users\\alici\\AppData\\Local\\Programs\\Python\\Python39\\lib\\site-packages\\sklearn\\linear_model\\_logistic.py:1116: UserWarning: Setting penalty='none' will ignore the C and l1_ratio parameters\n",
      "  warnings.warn(\n"
     ]
    },
    {
     "name": "stdout",
     "output_type": "stream",
     "text": [
      "tuned hpyerparameters :(best parameters)  {'C': 10.0, 'penalty': 'l2'}\n",
      "f1 : 0.43477982073473803\n",
      "tuned hpyerparameters :(best parameters)  {'C': 1000.0, 'penalty': 'l2'}\n",
      "f1 : 0.4264199152809553\n"
     ]
    },
    {
     "name": "stderr",
     "output_type": "stream",
     "text": [
      "c:\\Users\\alici\\AppData\\Local\\Programs\\Python\\Python39\\lib\\site-packages\\sklearn\\linear_model\\_logistic.py:1116: UserWarning: Setting penalty='none' will ignore the C and l1_ratio parameters\n",
      "  warnings.warn(\n"
     ]
    },
    {
     "name": "stdout",
     "output_type": "stream",
     "text": [
      "tuned hpyerparameters :(best parameters)  {'C': 10.0, 'penalty': 'l1'}\n",
      "f1 : 0.48593073499440437\n"
     ]
    },
    {
     "name": "stderr",
     "output_type": "stream",
     "text": [
      "c:\\Users\\alici\\AppData\\Local\\Programs\\Python\\Python39\\lib\\site-packages\\sklearn\\linear_model\\_logistic.py:1116: UserWarning: Setting penalty='none' will ignore the C and l1_ratio parameters\n",
      "  warnings.warn(\n"
     ]
    },
    {
     "name": "stdout",
     "output_type": "stream",
     "text": [
      "tuned hpyerparameters :(best parameters)  {'C': 10.0, 'penalty': 'l2'}\n",
      "f1 : 0.47196111269153695\n"
     ]
    },
    {
     "name": "stderr",
     "output_type": "stream",
     "text": [
      "c:\\Users\\alici\\AppData\\Local\\Programs\\Python\\Python39\\lib\\site-packages\\sklearn\\linear_model\\_logistic.py:1116: UserWarning: Setting penalty='none' will ignore the C and l1_ratio parameters\n",
      "  warnings.warn(\n"
     ]
    },
    {
     "name": "stdout",
     "output_type": "stream",
     "text": [
      "tuned hpyerparameters :(best parameters)  {'C': 2857.14, 'penalty': 'l2'}\n",
      "f1 : 0.42196352578213264\n"
     ]
    },
    {
     "name": "stderr",
     "output_type": "stream",
     "text": [
      "c:\\Users\\alici\\AppData\\Local\\Programs\\Python\\Python39\\lib\\site-packages\\sklearn\\linear_model\\_logistic.py:1116: UserWarning: Setting penalty='none' will ignore the C and l1_ratio parameters\n",
      "  warnings.warn(\n"
     ]
    },
    {
     "name": "stdout",
     "output_type": "stream",
     "text": [
      "tuned hpyerparameters :(best parameters)  {'C': 100.0, 'penalty': 'l2'}\n",
      "f1 : 0.4408983203831306\n"
     ]
    },
    {
     "name": "stderr",
     "output_type": "stream",
     "text": [
      "c:\\Users\\alici\\AppData\\Local\\Programs\\Python\\Python39\\lib\\site-packages\\sklearn\\linear_model\\_logistic.py:1116: UserWarning: Setting penalty='none' will ignore the C and l1_ratio parameters\n",
      "  warnings.warn(\n"
     ]
    },
    {
     "name": "stdout",
     "output_type": "stream",
     "text": [
      "tuned hpyerparameters :(best parameters)  {'C': 100.0, 'penalty': 'l2'}\n",
      "f1 : 0.4178676904933777\n"
     ]
    },
    {
     "name": "stderr",
     "output_type": "stream",
     "text": [
      "c:\\Users\\alici\\AppData\\Local\\Programs\\Python\\Python39\\lib\\site-packages\\sklearn\\linear_model\\_logistic.py:1116: UserWarning: Setting penalty='none' will ignore the C and l1_ratio parameters\n",
      "  warnings.warn(\n"
     ]
    },
    {
     "name": "stdout",
     "output_type": "stream",
     "text": [
      "tuned hpyerparameters :(best parameters)  {'C': 2857.14, 'penalty': 'l1'}\n",
      "f1 : 0.45266137638105597\n"
     ]
    }
   ],
   "source": [
    "# GridSearch para masc\n",
    "import json\n",
    "import time\n",
    "\n",
    "best_param_dict = dict()\n",
    "\n",
    "start = time.time()\n",
    "\n",
    "grid = dict()\n",
    "grid[\"C\"] = (np.logspace(-3,3,7).tolist() + [2857.14])\n",
    "grid[\"penalty\"] = [\"l1\", \"l2\"]\n",
    "best_param_dict[\"grid_values\"] = grid\n",
    "\n",
    "for i in range(10):\n",
    "    df_train = pd.read_csv('C:/Users/alici/Documents/tcc/github2/tcc-v2/brmoral/particoes/k_'+str(i+1)+'/train.csv')\n",
    "    df_test = pd.read_csv('C:/Users/alici/Documents/tcc/github2/tcc-v2/brmoral/particoes/k_'+str(i+1)+'/test.csv')\n",
    "\n",
    "    X_train = df_train['concat'].apply(clean_text).to_numpy()\n",
    "    X_test = df_test['concat'].apply(clean_text).to_numpy()\n",
    "    y_train_gender = df_train['GenderClass']\n",
    "    y_test_gender = df_test['GenderClass']\n",
    "\n",
    "    tfidfvec_gender = TfidfVectorizer(max_df=0.8)\n",
    "    tfidf_train_gender = tfidfvec_gender.fit_transform(X_train)\n",
    "    tfidf_test_gender = tfidfvec_gender.transform(X_test)\n",
    "\n",
    "    logisticRegr_gender = LogisticRegression(penalty=gender_param[\"k_\"+str(i+1)][\"params\"][\"penalty\"], C=gender_param[\"k_\"+str(i+1)][\"params\"][\"C\"], solver='lbfgs', multi_class='multinomial')\n",
    "    logisticRegr_gender.fit(tfidf_train_gender, y_train_gender)\n",
    "    pred_gender=logisticRegr_gender.predict(tfidf_test_gender)\n",
    "    \n",
    "    df_test[\"PredictGender\"] = pred_gender\n",
    "\n",
    "    df_train_masc = df_train[df_train[\"GenderClass\"]==0]\n",
    "    df_test_masc = df_test[df_test[\"PredictGender\"]==0]\n",
    "\n",
    "    X_train_masc = df_train_masc['concat'].apply(clean_text).to_numpy()\n",
    "    X_test_masc = df_test_masc['concat'].apply(clean_text).to_numpy()\n",
    "    y_train_masc = df_train_masc['AgeClass']\n",
    "    y_test_masc = df_test_masc['AgeClass']\n",
    "\n",
    "    tfidfvec_masc = TfidfVectorizer(max_features = 1000, max_df=0.8)\n",
    "    tfidf_train_masc = tfidfvec_masc.fit_transform(X_train_masc)\n",
    "    tfidf_test_masc = tfidfvec_masc.transform(X_test_masc)\n",
    "\n",
    "    logreg=LogisticRegression(solver='liblinear')\n",
    "    logreg_cv=GridSearchCV(logreg,grid,cv=10, scoring='f1_macro')\n",
    "    logreg_cv.fit(tfidf_train_masc, y_train_masc)\n",
    "    \n",
    "    param_dict = dict()\n",
    "    param_dict[\"params\"] =  logreg_cv.best_params_\n",
    "    param_dict[\"f1\"] = logreg_cv.best_score_\n",
    "    best_param_dict[\"k_\"+str(i+1)] = param_dict\n",
    "\n",
    "    print(\"tuned hpyerparameters :(best parameters) \",logreg_cv.best_params_)\n",
    "    print(\"f1 :\",logreg_cv.best_score_)\n",
    "\n",
    "end = time.time()\n",
    "best_param_dict[\"time\"] = formatTime(end-start)\n",
    "\n",
    "with open('brmoral/age_masc.json', 'w') as f:\n",
    "    json.dump(best_param_dict, f, indent=4)\n",
    "    "
   ]
  },
  {
   "cell_type": "code",
   "execution_count": 14,
   "metadata": {},
   "outputs": [],
   "source": [
    "def read_file_as_df(file_name):\n",
    "    import pandas as pd\n",
    "    import csv\n",
    "\n",
    "    import sys\n",
    "    import pandas as pd\n",
    "\n",
    "    maxInt = sys.maxsize\n",
    "\n",
    "    while True:\n",
    "        # decrease the maxInt value by factor 10 \n",
    "        # as long as the OverflowError occurs.\n",
    "\n",
    "        try:\n",
    "            csv.field_size_limit(maxInt)\n",
    "            break\n",
    "        except OverflowError:\n",
    "            maxInt = int(maxInt/10)\n",
    "\n",
    "    file = []\n",
    "    col = []\n",
    "\n",
    "    with open(file_name) as csv_file:\n",
    "        csv_reader = csv.reader(csv_file, delimiter=';')\n",
    "        line_count = 0\n",
    "        for row in csv_reader:\n",
    "            if line_count==0:\n",
    "                for r in row:\n",
    "                    col.append(r)\n",
    "                line_count+=1\n",
    "            else:\n",
    "                line = []\n",
    "                for r in row:\n",
    "                    line.append(r)\n",
    "                file.append(line)\n",
    "                line_count += 1\n",
    "\n",
    "            \n",
    "    df = pd.DataFrame(file, columns = col)\n",
    "    return df"
   ]
  },
  {
   "cell_type": "code",
   "execution_count": 15,
   "metadata": {},
   "outputs": [],
   "source": [
    "from sklearn.model_selection import train_test_split"
   ]
  },
  {
   "cell_type": "code",
   "execution_count": 16,
   "metadata": {},
   "outputs": [
    {
     "ename": "NameError",
     "evalue": "name 'genderGroups' is not defined",
     "output_type": "error",
     "traceback": [
      "\u001b[1;31m---------------------------------------------------------------------------\u001b[0m",
      "\u001b[1;31mNameError\u001b[0m                                 Traceback (most recent call last)",
      "\u001b[1;32m~\\AppData\\Local\\Temp/ipykernel_19552/563566695.py\u001b[0m in \u001b[0;36m<module>\u001b[1;34m\u001b[0m\n\u001b[0;32m     10\u001b[0m \u001b[0mdf\u001b[0m\u001b[1;33m[\u001b[0m\u001b[1;34m'CleanText'\u001b[0m\u001b[1;33m]\u001b[0m \u001b[1;33m=\u001b[0m \u001b[0mdf\u001b[0m\u001b[1;33m[\u001b[0m\u001b[1;34m'concat'\u001b[0m\u001b[1;33m]\u001b[0m\u001b[1;33m.\u001b[0m\u001b[0mapply\u001b[0m\u001b[1;33m(\u001b[0m\u001b[0mclean_text\u001b[0m\u001b[1;33m)\u001b[0m\u001b[1;33m\u001b[0m\u001b[1;33m\u001b[0m\u001b[0m\n\u001b[0;32m     11\u001b[0m \u001b[0mX\u001b[0m \u001b[1;33m=\u001b[0m \u001b[0mdf\u001b[0m\u001b[1;33m[\u001b[0m\u001b[1;34m'CleanText'\u001b[0m\u001b[1;33m]\u001b[0m\u001b[1;33m.\u001b[0m\u001b[0mto_numpy\u001b[0m\u001b[1;33m(\u001b[0m\u001b[1;33m)\u001b[0m\u001b[1;33m\u001b[0m\u001b[1;33m\u001b[0m\u001b[0m\n\u001b[1;32m---> 12\u001b[1;33m \u001b[0my\u001b[0m \u001b[1;33m=\u001b[0m \u001b[0mdf\u001b[0m\u001b[1;33m[\u001b[0m\u001b[1;34m\"gender\"\u001b[0m\u001b[1;33m]\u001b[0m\u001b[1;33m.\u001b[0m\u001b[0mapply\u001b[0m\u001b[1;33m(\u001b[0m\u001b[0mgenderGroups\u001b[0m\u001b[1;33m)\u001b[0m\u001b[1;33m\u001b[0m\u001b[1;33m\u001b[0m\u001b[0m\n\u001b[0m\u001b[0;32m     13\u001b[0m \u001b[0mX_train\u001b[0m\u001b[1;33m,\u001b[0m \u001b[0mX_test\u001b[0m\u001b[1;33m,\u001b[0m \u001b[0my_train\u001b[0m\u001b[1;33m,\u001b[0m \u001b[0my_test\u001b[0m\u001b[1;33m=\u001b[0m\u001b[0mtrain_test_split\u001b[0m\u001b[1;33m(\u001b[0m\u001b[0mX\u001b[0m\u001b[1;33m,\u001b[0m\u001b[0my\u001b[0m\u001b[1;33m,\u001b[0m\u001b[0mtest_size\u001b[0m\u001b[1;33m=\u001b[0m\u001b[1;36m0.2\u001b[0m\u001b[1;33m)\u001b[0m\u001b[1;33m\u001b[0m\u001b[1;33m\u001b[0m\u001b[0m\n\u001b[0;32m     14\u001b[0m \u001b[0mtfvec\u001b[0m \u001b[1;33m=\u001b[0m \u001b[0mTfidfVectorizer\u001b[0m\u001b[1;33m(\u001b[0m\u001b[0mmax_df\u001b[0m\u001b[1;33m=\u001b[0m\u001b[1;36m0.8\u001b[0m\u001b[1;33m)\u001b[0m\u001b[1;33m\u001b[0m\u001b[1;33m\u001b[0m\u001b[0m\n",
      "\u001b[1;31mNameError\u001b[0m: name 'genderGroups' is not defined"
     ]
    }
   ],
   "source": [
    "import time\n",
    "\n",
    "start = time.time()\n",
    "\n",
    "grid = dict()\n",
    "grid[\"C\"] = np.logspace(-3,3,7).tolist()\n",
    "grid[\"penalty\"] = [\"l1\", \"l2\"]\n",
    "\n",
    "df = read_file_as_df(r'C:\\Users\\alici\\Documents\\tcc\\github2\\tcc-v2\\brmoral\\brMoral.csv')\n",
    "df['CleanText'] = df['concat'].apply(clean_text)\n",
    "X = df['CleanText'].to_numpy()\n",
    "y = df[\"gender\"].apply(genderGroups)\n",
    "X_train, X_test, y_train, y_test=train_test_split(X,y,test_size=0.2)\n",
    "tfvec = TfidfVectorizer(max_df=0.8)\n",
    "tfvec.fit(X_train)\n",
    "tdf_train = tfvec.transform(X_train).toarray().tolist()\n",
    "tdf_test = tfvec.transform(X_test).toarray().tolist()\n",
    "logreg=LogisticRegression()\n",
    "logreg_cv=GridSearchCV(logreg, grid, cv=10, scoring='f1_macro')\n",
    "logreg_cv.fit(tdf_train,y_train)\n",
    "\n",
    "print(\"tuned hpyerparameters :(best parameters) \",logreg_cv.best_params_)\n",
    "print(\"accuracy :\",logreg_cv.best_score_)"
   ]
  },
  {
   "cell_type": "code",
   "execution_count": null,
   "metadata": {},
   "outputs": [],
   "source": [
    "def genderGroups(text):\n",
    "    if(text == \"f\"):\n",
    "        return 1\n",
    "    else:\n",
    "        return 0"
   ]
  }
 ],
 "metadata": {
  "kernelspec": {
   "display_name": "Python 3.9.6 64-bit",
   "language": "python",
   "name": "python3"
  },
  "language_info": {
   "codemirror_mode": {
    "name": "ipython",
    "version": 3
   },
   "file_extension": ".py",
   "mimetype": "text/x-python",
   "name": "python",
   "nbconvert_exporter": "python",
   "pygments_lexer": "ipython3",
   "version": "3.9.6"
  },
  "orig_nbformat": 4,
  "vscode": {
   "interpreter": {
    "hash": "ac26e9ee9434047e2b6179ca7c094dd6d7a5c4307efa62cbdc343ee78cec5e23"
   }
  }
 },
 "nbformat": 4,
 "nbformat_minor": 2
}
