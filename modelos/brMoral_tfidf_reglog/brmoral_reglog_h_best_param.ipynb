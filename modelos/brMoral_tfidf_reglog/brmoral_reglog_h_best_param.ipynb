{
 "cells": [
  {
   "cell_type": "code",
   "execution_count": 13,
   "metadata": {},
   "outputs": [
    {
     "name": "stderr",
     "output_type": "stream",
     "text": [
      "[nltk_data] Downloading package stopwords to\n",
      "[nltk_data]     C:\\Users\\alici\\AppData\\Roaming\\nltk_data...\n",
      "[nltk_data]   Package stopwords is already up-to-date!\n"
     ]
    }
   ],
   "source": [
    "import pandas as pd\n",
    "from sklearn.feature_extraction.text import TfidfVectorizer\n",
    "from imblearn.over_sampling import SMOTE\n",
    "from sklearn.linear_model import LogisticRegression\n",
    "from sklearn import metrics\n",
    "import nltk\n",
    "import numpy as np\n",
    "import json\n",
    "from sklearn.model_selection import GridSearchCV\n",
    "nltk.download('stopwords')\n",
    "stopwords = nltk.corpus.stopwords.words('portuguese')\n"
   ]
  },
  {
   "cell_type": "code",
   "execution_count": 14,
   "metadata": {},
   "outputs": [],
   "source": [
    "def remove_stopwords(text):\n",
    "    all_words = text.split(\" \")\n",
    "    clean_text = [i for i in all_words if i not in stopwords and i!=\"\"]\n",
    "    return \" \".join(clean_text)"
   ]
  },
  {
   "cell_type": "code",
   "execution_count": 15,
   "metadata": {},
   "outputs": [],
   "source": [
    "def remove_html_tags(text):\n",
    "    import re\n",
    "    clean = re.compile('<.*?>')\n",
    "    return re.sub(clean, '', text)"
   ]
  },
  {
   "cell_type": "code",
   "execution_count": 16,
   "metadata": {},
   "outputs": [],
   "source": [
    "def lower_texts(text):\n",
    "    return text.lower()"
   ]
  },
  {
   "cell_type": "code",
   "execution_count": 17,
   "metadata": {},
   "outputs": [],
   "source": [
    "def clean_text(text):\n",
    "    clean_text = remove_stopwords(text)\n",
    "    clean_text = remove_html_tags(clean_text)\n",
    "    clean_text = lower_texts(clean_text)\n",
    "    return clean_text"
   ]
  },
  {
   "cell_type": "code",
   "execution_count": 18,
   "metadata": {},
   "outputs": [],
   "source": [
    "def formatTime(seg):\n",
    "    min = seg//60\n",
    "    seg = seg % 60\n",
    "    return str(min)+\"min\"+str(round(seg, 2))+\"s\""
   ]
  },
  {
   "cell_type": "code",
   "execution_count": 22,
   "metadata": {},
   "outputs": [],
   "source": [
    "with open(r'C:\\Users\\alici\\Documents\\tcc\\v3\\melhores_param\\brmoral\\gender.json', encoding='utf-8') as f:\n",
    "    gender_param = json.load(f)\n",
    "with open(r'C:\\Users\\alici\\Documents\\tcc\\v3\\melhores_param\\brmoral\\age.json', encoding='utf-8') as f:\n",
    "    age_param = json.load(f)\n",
    "with open(r'C:\\Users\\alici\\Documents\\tcc\\v3\\melhores_param\\brmoral\\age_fem.json', encoding='utf-8') as f:\n",
    "    age_fem_param = json.load(f)\n",
    "with open(r'C:\\Users\\alici\\Documents\\tcc\\v3\\melhores_param\\brmoral\\age_masc.json', encoding='utf-8') as f:\n",
    "    age_masc_param = json.load(f)"
   ]
  },
  {
   "cell_type": "code",
   "execution_count": 23,
   "metadata": {},
   "outputs": [
    {
     "name": "stdout",
     "output_type": "stream",
     "text": [
      "\n",
      "0.442674300254308\n",
      "0.40884767737708916\n",
      "0.45306544827102585\n",
      "0.4632106560286652\n"
     ]
    }
   ],
   "source": [
    "age = []\n",
    "age_fem = []\n",
    "age_masc = []\n",
    "age_sep = []\n",
    "\n",
    "for i in range(10):\n",
    "    df_train = pd.read_csv(r'C:\\Users\\alici\\Documents\\tcc\\v3\\particoes\\brmoral\\k_'+str(i+1)+r'\\train.csv')\n",
    "    df_test = pd.read_csv(r'C:\\Users\\alici\\Documents\\tcc\\v3\\particoes\\brmoral\\k_'+str(i+1)+r'\\test.csv')\n",
    "    \n",
    "    X_train = df_train['concat'].apply(clean_text).to_numpy()\n",
    "    X_test = df_test['concat'].apply(clean_text).to_numpy()\n",
    "    y_train_gender = df_train['GenderClass']\n",
    "    y_test_gender = df_test['GenderClass']\n",
    "\n",
    "    tfidfvec_gender = TfidfVectorizer(max_df=0.8)\n",
    "    tfidf_train_gender = tfidfvec_gender.fit_transform(X_train)\n",
    "    tfidf_test_gender = tfidfvec_gender.transform(X_test)\n",
    "\n",
    "    logisticRegr_gender = LogisticRegression(penalty='l2', C=5714.28, solver='lbfgs', multi_class='multinomial')\n",
    "    logisticRegr_gender.fit(tfidf_train_gender, y_train_gender)\n",
    "    pred_gender=logisticRegr_gender.predict(tfidf_test_gender)\n",
    "\n",
    "    # f1 = metrics.f1_score(y_test_gender, pred_gender, average='macro')\n",
    "    # f1_list.append(f1)\n",
    "    # print(f1)\n",
    "\n",
    "    y_train_age = df_train['AgeClass']\n",
    "    y_test_age = df_test['AgeClass']\n",
    "\n",
    "    tfidfvec_age = TfidfVectorizer(max_features = 1000, max_df=0.8)\n",
    "    tfidf_train_age = tfidfvec_age.fit_transform(X_train)\n",
    "    tfidf_test_age = tfidfvec_age.transform(X_test)\n",
    "\n",
    "    logisticRegr_age = LogisticRegression(penalty=age_param[\"k_\"+str(i+1)][\"params\"][\"penalty\"], C=age_param[\"k_\"+str(i+1)][\"params\"][\"C\"], solver='liblinear')\n",
    "    logisticRegr_age.fit(tfidf_train_age, y_train_age)\n",
    "    pred_age=logisticRegr_age.predict(tfidf_test_age)\n",
    "\n",
    "    f1 = metrics.f1_score(y_test_age, pred_age, average='macro')\n",
    "    age.append(f1)\n",
    "\n",
    "    df_test[\"PredictGender\"] = pred_gender\n",
    "\n",
    "    df_train_fem = df_train[df_train[\"GenderClass\"]==1]\n",
    "    df_train_masc = df_train[df_train[\"GenderClass\"]==0]\n",
    "\n",
    "    df_test_fem = df_test[df_test[\"PredictGender\"]==1]\n",
    "    df_test_masc = df_test[df_test[\"PredictGender\"]==0]\n",
    "\n",
    "    X_train_fem = df_train_fem['concat'].apply(clean_text).to_numpy()\n",
    "    X_test_fem = df_test_fem['concat'].apply(clean_text).to_numpy()\n",
    "    y_train_fem = df_train_fem['AgeClass']\n",
    "    y_test_fem = df_test_fem['AgeClass']\n",
    "\n",
    "    tfidfvec_fem = TfidfVectorizer(max_features = 1000, max_df=0.8)\n",
    "    tfidf_train_fem = tfidfvec_fem.fit_transform(X_train_fem)\n",
    "    tfidf_test_fem = tfidfvec_fem.transform(X_test_fem)\n",
    "\n",
    "    logisticRegr_fem = LogisticRegression(penalty=age_fem_param[\"k_\"+str(i+1)][\"params\"][\"penalty\"], C=age_fem_param[\"k_\"+str(i+1)][\"params\"][\"C\"], solver='liblinear')\n",
    "    logisticRegr_fem.fit(tfidf_train_fem, y_train_fem)\n",
    "    pred_fem=logisticRegr_fem.predict(tfidf_test_fem)\n",
    "\n",
    "    f1 = metrics.f1_score(y_test_fem, pred_fem, average='macro')\n",
    "    age_fem.append(f1)\n",
    "\n",
    "    X_train_masc = df_train_masc['concat'].apply(clean_text).to_numpy()\n",
    "    X_test_masc = df_test_masc['concat'].apply(clean_text).to_numpy()\n",
    "    y_train_masc = df_train_masc['AgeClass']\n",
    "    y_test_masc = df_test_masc['AgeClass']\n",
    "\n",
    "    tfidfvec_masc = TfidfVectorizer(max_features = 1000, max_df=0.8)\n",
    "    tfidf_train_masc = tfidfvec_masc.fit_transform(X_train_masc)\n",
    "    tfidf_test_masc = tfidfvec_masc.transform(X_test_masc)\n",
    "\n",
    "    logisticRegr_masc = LogisticRegression(penalty=age_masc_param[\"k_\"+str(i+1)][\"params\"][\"penalty\"], C=age_masc_param[\"k_\"+str(i+1)][\"params\"][\"C\"], solver='liblinear')\n",
    "    logisticRegr_masc.fit(tfidf_train_masc, y_train_masc)\n",
    "    pred_masc=logisticRegr_masc.predict(tfidf_test_masc)\n",
    "\n",
    "    f1 = metrics.f1_score(y_test_masc, pred_masc, average='macro')\n",
    "    age_masc.append(f1)\n",
    "\n",
    "    pred_ages_sep = pred_fem.tolist() + pred_masc.tolist()\n",
    "    y_test = y_test_fem.to_list() +  y_test_masc.to_list()\n",
    "    age_sep.append(metrics.f1_score(y_test, pred_ages_sep, average='macro'))\n",
    "\n",
    "print()\n",
    "print(sum(age)/len(age))\n",
    "print(sum(age_fem)/len(age_fem))\n",
    "print(sum(age_masc)/len(age_masc))\n",
    "print(sum(age_sep)/len(age_sep))"
   ]
  },
  {
   "cell_type": "code",
   "execution_count": 26,
   "metadata": {},
   "outputs": [
    {
     "name": "stdout",
     "output_type": "stream",
     "text": [
      "\n",
      "0.4490891653331991\n",
      "0.4098507048507048\n",
      "0.4854827912340146\n",
      "0.4866794082827693\n"
     ]
    }
   ],
   "source": [
    "age = []\n",
    "age_fem = []\n",
    "age_masc = []\n",
    "age_sep = []\n",
    "\n",
    "for i in range(10):\n",
    "    df_train = pd.read_csv(r'C:\\Users\\alici\\Documents\\tcc\\v3\\particoes\\brmoral\\k_'+str(i+1)+r'\\train.csv')\n",
    "    df_test = pd.read_csv(r'C:\\Users\\alici\\Documents\\tcc\\v3\\particoes\\brmoral\\k_'+str(i+1)+r'\\test.csv')\n",
    "      \n",
    "    X_train = df_train['concat'].apply(clean_text).to_numpy()\n",
    "    X_test = df_test['concat'].apply(clean_text).to_numpy()\n",
    "    y_train_gender = df_train['GenderClass']\n",
    "    y_test_gender = df_test['GenderClass']\n",
    "\n",
    "    tfidfvec_gender = TfidfVectorizer(max_df=0.8)\n",
    "    tfidf_train_gender = tfidfvec_gender.fit_transform(X_train)\n",
    "    tfidf_test_gender = tfidfvec_gender.transform(X_test)\n",
    "\n",
    "    logisticRegr_gender = LogisticRegression(penalty='l2', C=5714.28, solver='lbfgs', multi_class='multinomial')\n",
    "    logisticRegr_gender.fit(tfidf_train_gender, y_train_gender)\n",
    "    pred_gender=logisticRegr_gender.predict(tfidf_test_gender)\n",
    "\n",
    "    # f1 = metrics.f1_score(y_test_gender, pred_gender, average='macro')\n",
    "    # f1_list.append(f1)\n",
    "    # print(f1)\n",
    "\n",
    "    y_train_age = df_train['AgeClass']\n",
    "    y_test_age = df_test['AgeClass']\n",
    "\n",
    "    tfidfvec_age = TfidfVectorizer(max_features = 1000, max_df=0.8)\n",
    "    tfidf_train_age = tfidfvec_age.fit_transform(X_train)\n",
    "    tfidf_test_age = tfidfvec_age.transform(X_test)\n",
    "\n",
    "    logisticRegr_age = LogisticRegression(penalty=\"l2\", C=2857.14, solver='liblinear')\n",
    "    logisticRegr_age.fit(tfidf_train_age, y_train_age)\n",
    "    pred_age=logisticRegr_age.predict(tfidf_test_age)\n",
    "\n",
    "    f1 = metrics.f1_score(y_test_age, pred_age, average='macro')\n",
    "    age.append(f1)\n",
    "\n",
    "    df_test[\"PredictGender\"] = pred_gender\n",
    "\n",
    "    df_train_fem = df_train[df_train[\"GenderClass\"]==1]\n",
    "    df_train_masc = df_train[df_train[\"GenderClass\"]==0]\n",
    "\n",
    "    df_test_fem = df_test[df_test[\"PredictGender\"]==1]\n",
    "    df_test_masc = df_test[df_test[\"PredictGender\"]==0]\n",
    "\n",
    "    X_train_fem = df_train_fem['concat'].apply(clean_text).to_numpy()\n",
    "    X_test_fem = df_test_fem['concat'].apply(clean_text).to_numpy()\n",
    "    y_train_fem = df_train_fem['AgeClass']\n",
    "    y_test_fem = df_test_fem['AgeClass']\n",
    "\n",
    "    tfidfvec_fem = TfidfVectorizer(max_features = 1000, max_df=0.8)\n",
    "    tfidf_train_fem = tfidfvec_fem.fit_transform(X_train_fem)\n",
    "    tfidf_test_fem = tfidfvec_fem.transform(X_test_fem)\n",
    "\n",
    "    logisticRegr_fem = LogisticRegression(penalty=\"l2\", C=2857.14, solver='liblinear')\n",
    "    logisticRegr_fem.fit(tfidf_train_fem, y_train_fem)\n",
    "    pred_fem=logisticRegr_fem.predict(tfidf_test_fem)\n",
    "\n",
    "    f1 = metrics.f1_score(y_test_fem, pred_fem, average='macro')\n",
    "    age_fem.append(f1)\n",
    "\n",
    "    X_train_masc = df_train_masc['concat'].apply(clean_text).to_numpy()\n",
    "    X_test_masc = df_test_masc['concat'].apply(clean_text).to_numpy()\n",
    "    y_train_masc = df_train_masc['AgeClass']\n",
    "    y_test_masc = df_test_masc['AgeClass']\n",
    "\n",
    "    tfidfvec_masc = TfidfVectorizer(max_features = 1000, max_df=0.8)\n",
    "    tfidf_train_masc = tfidfvec_masc.fit_transform(X_train_masc)\n",
    "    tfidf_test_masc = tfidfvec_masc.transform(X_test_masc)\n",
    "\n",
    "    logisticRegr_masc = LogisticRegression(penalty=\"l2\", C=2857.14, solver='liblinear')\n",
    "    logisticRegr_masc.fit(tfidf_train_masc, y_train_masc)\n",
    "    pred_masc=logisticRegr_masc.predict(tfidf_test_masc)\n",
    "\n",
    "    f1 = metrics.f1_score(y_test_masc, pred_masc, average='macro')\n",
    "    age_masc.append(f1)\n",
    "\n",
    "    pred_ages_sep = pred_fem.tolist() + pred_masc.tolist()\n",
    "    y_test = y_test_fem.to_list() +  y_test_masc.to_list()\n",
    "    age_sep.append(metrics.f1_score(y_test, pred_ages_sep, average='macro'))\n",
    "\n",
    "print()\n",
    "print(sum(age)/len(age))\n",
    "print(sum(age_fem)/len(age_fem))\n",
    "print(sum(age_masc)/len(age_masc))\n",
    "print(sum(age_sep)/len(age_sep))"
   ]
  },
  {
   "cell_type": "code",
   "execution_count": 24,
   "metadata": {},
   "outputs": [
    {
     "name": "stdout",
     "output_type": "stream",
     "text": [
      "0.5646341463414635\n",
      "0.5569498069498069\n",
      "0.6565656565656566\n",
      "0.5750000000000001\n",
      "0.5718518518518518\n",
      "0.6222222222222222\n",
      "0.5904581955597543\n",
      "0.6554054054054055\n",
      "0.7794117647058824\n",
      "0.6386639676113361\n",
      "\n",
      "0.6211163017213379\n"
     ]
    }
   ],
   "source": [
    "f1_list = []\n",
    "\n",
    "for i in range(10):\n",
    "    df_train = pd.read_csv(r'C:\\Users\\alici\\Documents\\tcc\\v3\\particoes\\brmoral\\k_'+str(i+1)+r'\\train.csv')\n",
    "    df_test = pd.read_csv(r'C:\\Users\\alici\\Documents\\tcc\\v3\\particoes\\brmoral\\k_'+str(i+1)+r'\\test.csv')\n",
    "    \n",
    "    X_train = df_train['concat'].apply(clean_text).to_numpy()\n",
    "    X_test = df_test['concat'].apply(clean_text).to_numpy()\n",
    "    y_train_gender = df_train['GenderClass']\n",
    "    y_test_gender = df_test['GenderClass']\n",
    "\n",
    "    tfidfvec_gender = TfidfVectorizer(max_df=0.8)\n",
    "    tfidf_train_gender = tfidfvec_gender.fit_transform(X_train)\n",
    "    tfidf_test_gender = tfidfvec_gender.transform(X_test)\n",
    "\n",
    "    logisticRegr_gender = LogisticRegression(penalty='l2', C=5714.28, solver='lbfgs', multi_class='multinomial')\n",
    "    logisticRegr_gender.fit(tfidf_train_gender, y_train_gender)\n",
    "    pred_gender=logisticRegr_gender.predict(tfidf_test_gender)\n",
    "\n",
    "    f1 = metrics.f1_score(y_test_gender, pred_gender, average='macro')\n",
    "    f1_list.append(f1)\n",
    "    print(f1)\n",
    "\n",
    "print()\n",
    "print(sum(f1_list)/len(f1_list))"
   ]
  },
  {
   "cell_type": "code",
   "execution_count": 13,
   "metadata": {},
   "outputs": [],
   "source": [
    "with open('brmoral/gender.json', encoding='utf-8') as f:\n",
    "    gender_param = json.load(f)"
   ]
  },
  {
   "cell_type": "code",
   "execution_count": 14,
   "metadata": {},
   "outputs": [
    {
     "name": "stdout",
     "output_type": "stream",
     "text": [
      "0.6554054054054054\n",
      "0.6061776061776061\n"
     ]
    },
    {
     "name": "stderr",
     "output_type": "stream",
     "text": [
      "c:\\Users\\alici\\AppData\\Local\\Programs\\Python\\Python39\\lib\\site-packages\\sklearn\\linear_model\\_logistic.py:1116: UserWarning: Setting penalty='none' will ignore the C and l1_ratio parameters\n",
      "  warnings.warn(\n"
     ]
    },
    {
     "name": "stdout",
     "output_type": "stream",
     "text": [
      "0.6694444444444444\n",
      "0.6386395843174303\n"
     ]
    },
    {
     "name": "stderr",
     "output_type": "stream",
     "text": [
      "c:\\Users\\alici\\AppData\\Local\\Programs\\Python\\Python39\\lib\\site-packages\\sklearn\\linear_model\\_logistic.py:1116: UserWarning: Setting penalty='none' will ignore the C and l1_ratio parameters\n",
      "  warnings.warn(\n"
     ]
    },
    {
     "name": "stdout",
     "output_type": "stream",
     "text": [
      "0.5354251012145749\n"
     ]
    },
    {
     "name": "stderr",
     "output_type": "stream",
     "text": [
      "c:\\Users\\alici\\AppData\\Local\\Programs\\Python\\Python39\\lib\\site-packages\\sklearn\\linear_model\\_logistic.py:1116: UserWarning: Setting penalty='none' will ignore the C and l1_ratio parameters\n",
      "  warnings.warn(\n"
     ]
    },
    {
     "name": "stdout",
     "output_type": "stream",
     "text": [
      "0.837800999545661\n"
     ]
    },
    {
     "name": "stderr",
     "output_type": "stream",
     "text": [
      "c:\\Users\\alici\\AppData\\Local\\Programs\\Python\\Python39\\lib\\site-packages\\sklearn\\linear_model\\_logistic.py:1116: UserWarning: Setting penalty='none' will ignore the C and l1_ratio parameters\n",
      "  warnings.warn(\n"
     ]
    },
    {
     "name": "stdout",
     "output_type": "stream",
     "text": [
      "0.5496103896103895\n"
     ]
    },
    {
     "name": "stderr",
     "output_type": "stream",
     "text": [
      "c:\\Users\\alici\\AppData\\Local\\Programs\\Python\\Python39\\lib\\site-packages\\sklearn\\linear_model\\_logistic.py:1116: UserWarning: Setting penalty='none' will ignore the C and l1_ratio parameters\n",
      "  warnings.warn(\n"
     ]
    },
    {
     "name": "stdout",
     "output_type": "stream",
     "text": [
      "0.6868209730751063\n"
     ]
    },
    {
     "name": "stderr",
     "output_type": "stream",
     "text": [
      "c:\\Users\\alici\\AppData\\Local\\Programs\\Python\\Python39\\lib\\site-packages\\sklearn\\linear_model\\_logistic.py:1116: UserWarning: Setting penalty='none' will ignore the C and l1_ratio parameters\n",
      "  warnings.warn(\n"
     ]
    },
    {
     "name": "stdout",
     "output_type": "stream",
     "text": [
      "0.6029411764705883\n",
      "0.6694444444444444\n",
      "\n",
      "0.6451710124705651\n"
     ]
    },
    {
     "name": "stderr",
     "output_type": "stream",
     "text": [
      "c:\\Users\\alici\\AppData\\Local\\Programs\\Python\\Python39\\lib\\site-packages\\sklearn\\linear_model\\_logistic.py:1116: UserWarning: Setting penalty='none' will ignore the C and l1_ratio parameters\n",
      "  warnings.warn(\n"
     ]
    }
   ],
   "source": [
    "f1_list = []\n",
    "\n",
    "for i in range(10):\n",
    "    df_train = pd.read_csv(r'C:\\Users\\alici\\Documents\\tcc\\v3\\particoes\\brmoral\\k_'+str(i+1)+r'\\train.csv')\n",
    "    df_test = pd.read_csv(r'C:\\Users\\alici\\Documents\\tcc\\v3\\particoes\\brmoral\\k_'+str(i+1)+r'\\test.csv')\n",
    "    \n",
    "    X_train = df_train['concat'].apply(clean_text).to_numpy()\n",
    "    X_test = df_test['concat'].apply(clean_text).to_numpy()\n",
    "    y_train_gender = df_train['GenderClass']\n",
    "    y_test_gender = df_test['GenderClass']\n",
    "\n",
    "    tfidfvec_gender = TfidfVectorizer(max_df=0.8)\n",
    "    tfidf_train_gender = tfidfvec_gender.fit_transform(X_train)\n",
    "    tfidf_test_gender = tfidfvec_gender.transform(X_test)\n",
    "\n",
    "    logisticRegr_gender = LogisticRegression(penalty=gender_param[\"k_\"+str(i+1)][\"params\"][\"penalty\"], C=gender_param[\"k_\"+str(i+1)][\"params\"][\"C\"], solver='lbfgs', multi_class='multinomial')\n",
    "    logisticRegr_gender.fit(tfidf_train_gender, y_train_gender)\n",
    "    pred_gender=logisticRegr_gender.predict(tfidf_test_gender)\n",
    "\n",
    "    f1 = metrics.f1_score(y_test_gender, pred_gender, average='macro')\n",
    "    f1_list.append(f1)\n",
    "    print(f1)\n",
    "\n",
    "print()\n",
    "print(sum(f1_list)/len(f1_list))"
   ]
  },
  {
   "cell_type": "code",
   "execution_count": 23,
   "metadata": {},
   "outputs": [],
   "source": [
    "with open('brmoral/age.json', encoding='utf-8') as f:\n",
    "    age_param = json.load(f)"
   ]
  },
  {
   "cell_type": "code",
   "execution_count": 25,
   "metadata": {},
   "outputs": [
    {
     "name": "stdout",
     "output_type": "stream",
     "text": [
      "0.46331983805668014\n",
      "0.4171066921319702\n",
      "0.4916560563619387\n",
      "0.5295238095238096\n",
      "0.4689976689976689\n",
      "0.30845688266977617\n",
      "0.47670083876980424\n",
      "0.4222222222222222\n",
      "0.5239167336728312\n",
      "0.4023569023569024\n",
      "\n",
      "0.4504257644763604\n"
     ]
    }
   ],
   "source": [
    "age = []\n",
    "age_fem = []\n",
    "age_masc = []\n",
    "age_sep = []\n",
    "\n",
    "for i in range(10):\n",
    "    df_train = pd.read_csv(r'C:\\Users\\alici\\Documents\\tcc\\v3\\particoes\\brmoral\\k_'+str(i+1)+r'\\train.csv')\n",
    "    df_test = pd.read_csv(r'C:\\Users\\alici\\Documents\\tcc\\v3\\particoes\\brmoral\\k_'+str(i+1)+r'\\test.csv')\n",
    "    \n",
    "    X_train = df_train['concat'].apply(clean_text).to_numpy()\n",
    "    X_test = df_test['concat'].apply(clean_text).to_numpy()\n",
    "\n",
    "    y_train_age = df_train['AgeClass']\n",
    "    y_test_age = df_test['AgeClass']\n",
    "\n",
    "    tfidfvec_age = TfidfVectorizer(max_features = 1000, max_df=0.8)\n",
    "    tfidf_train_age = tfidfvec_age.fit_transform(X_train)\n",
    "    tfidf_test_age = tfidfvec_age.transform(X_test)\n",
    "\n",
    "    logisticRegr_age = LogisticRegression(penalty=age_param[\"k_\"+str(i+1)][\"params\"][\"penalty\"], C=age_param[\"k_\"+str(i+1)][\"params\"][\"C\"], solver='liblinear')\n",
    "    logisticRegr_age.fit(tfidf_train_age, y_train_age)\n",
    "    pred_age=logisticRegr_age.predict(tfidf_test_age)\n",
    "\n",
    "    f1 = metrics.f1_score(y_test_age, pred_age, average='macro')\n",
    "    age.append(f1)\n",
    "    print(f1)\n",
    "\n",
    "print()\n",
    "print(sum(age)/len(age))"
   ]
  },
  {
   "cell_type": "code",
   "execution_count": 27,
   "metadata": {},
   "outputs": [
    {
     "name": "stdout",
     "output_type": "stream",
     "text": [
      "0.4988288288288289\n",
      "0.4171066921319702\n",
      "0.48243114909781576\n",
      "0.4104377104377104\n",
      "0.4682477765642066\n",
      "0.4566347469220246\n",
      "0.49568749459856526\n",
      "0.4222222222222222\n",
      "0.4468186134852801\n",
      "0.39247641904336666\n",
      "\n",
      "0.4490891653331991\n"
     ]
    }
   ],
   "source": [
    "age = []\n",
    "age_fem = []\n",
    "age_masc = []\n",
    "age_sep = []\n",
    "\n",
    "for i in range(10):\n",
    "    df_train = pd.read_csv(r'C:\\Users\\alici\\Documents\\tcc\\v3\\particoes\\brmoral\\k_'+str(i+1)+r'\\train.csv')\n",
    "    df_test = pd.read_csv(r'C:\\Users\\alici\\Documents\\tcc\\v3\\particoes\\brmoral\\k_'+str(i+1)+r'\\test.csv')\n",
    "    \n",
    "    X_train = df_train['concat'].apply(clean_text).to_numpy()\n",
    "    X_test = df_test['concat'].apply(clean_text).to_numpy()\n",
    "\n",
    "    y_train_age = df_train['AgeClass']\n",
    "    y_test_age = df_test['AgeClass']\n",
    "\n",
    "    tfidfvec_age = TfidfVectorizer(max_features = 1000, max_df=0.8)\n",
    "    tfidf_train_age = tfidfvec_age.fit_transform(X_train)\n",
    "    tfidf_test_age = tfidfvec_age.transform(X_test)\n",
    "\n",
    "    logisticRegr_age = LogisticRegression(penalty=\"l2\", C=2857.14, solver='liblinear')\n",
    "    logisticRegr_age.fit(tfidf_train_age, y_train_age)\n",
    "    pred_age=logisticRegr_age.predict(tfidf_test_age)\n",
    "\n",
    "    f1 = metrics.f1_score(y_test_age, pred_age, average='macro')\n",
    "    age.append(f1)\n",
    "    print(f1)\n",
    "\n",
    "print()\n",
    "print(sum(age)/len(age))"
   ]
  },
  {
   "cell_type": "code",
   "execution_count": 25,
   "metadata": {},
   "outputs": [],
   "source": [
    "with open('brmoral/age_fem.json', encoding='utf-8') as f:\n",
    "    age_fem_param = json.load(f)"
   ]
  },
  {
   "cell_type": "code",
   "execution_count": 29,
   "metadata": {},
   "outputs": [
    {
     "name": "stdout",
     "output_type": "stream",
     "text": [
      "0.3238095238095238\n",
      "0.4262626262626263\n"
     ]
    },
    {
     "name": "stderr",
     "output_type": "stream",
     "text": [
      "c:\\Users\\alici\\AppData\\Local\\Programs\\Python\\Python39\\lib\\site-packages\\sklearn\\linear_model\\_logistic.py:1116: UserWarning: Setting penalty='none' will ignore the C and l1_ratio parameters\n",
      "  warnings.warn(\n"
     ]
    },
    {
     "name": "stdout",
     "output_type": "stream",
     "text": [
      "0.4481481481481482\n",
      "0.24444444444444446\n"
     ]
    },
    {
     "name": "stderr",
     "output_type": "stream",
     "text": [
      "c:\\Users\\alici\\AppData\\Local\\Programs\\Python\\Python39\\lib\\site-packages\\sklearn\\linear_model\\_logistic.py:1116: UserWarning: Setting penalty='none' will ignore the C and l1_ratio parameters\n",
      "  warnings.warn(\n"
     ]
    },
    {
     "name": "stdout",
     "output_type": "stream",
     "text": [
      "0.1904761904761905\n"
     ]
    },
    {
     "name": "stderr",
     "output_type": "stream",
     "text": [
      "c:\\Users\\alici\\AppData\\Local\\Programs\\Python\\Python39\\lib\\site-packages\\sklearn\\linear_model\\_logistic.py:1116: UserWarning: Setting penalty='none' will ignore the C and l1_ratio parameters\n",
      "  warnings.warn(\n"
     ]
    },
    {
     "name": "stdout",
     "output_type": "stream",
     "text": [
      "0.7777777777777778\n"
     ]
    },
    {
     "name": "stderr",
     "output_type": "stream",
     "text": [
      "c:\\Users\\alici\\AppData\\Local\\Programs\\Python\\Python39\\lib\\site-packages\\sklearn\\linear_model\\_logistic.py:1116: UserWarning: Setting penalty='none' will ignore the C and l1_ratio parameters\n",
      "  warnings.warn(\n"
     ]
    },
    {
     "name": "stdout",
     "output_type": "stream",
     "text": [
      "0.3333333333333333\n"
     ]
    },
    {
     "name": "stderr",
     "output_type": "stream",
     "text": [
      "c:\\Users\\alici\\AppData\\Local\\Programs\\Python\\Python39\\lib\\site-packages\\sklearn\\linear_model\\_logistic.py:1116: UserWarning: Setting penalty='none' will ignore the C and l1_ratio parameters\n",
      "  warnings.warn(\n"
     ]
    },
    {
     "name": "stdout",
     "output_type": "stream",
     "text": [
      "0.3571428571428572\n"
     ]
    },
    {
     "name": "stderr",
     "output_type": "stream",
     "text": [
      "c:\\Users\\alici\\AppData\\Local\\Programs\\Python\\Python39\\lib\\site-packages\\sklearn\\linear_model\\_logistic.py:1116: UserWarning: Setting penalty='none' will ignore the C and l1_ratio parameters\n",
      "  warnings.warn(\n"
     ]
    },
    {
     "name": "stdout",
     "output_type": "stream",
     "text": [
      "0.38095238095238093\n"
     ]
    },
    {
     "name": "stderr",
     "output_type": "stream",
     "text": [
      "c:\\Users\\alici\\AppData\\Local\\Programs\\Python\\Python39\\lib\\site-packages\\sklearn\\linear_model\\_logistic.py:1116: UserWarning: Setting penalty='none' will ignore the C and l1_ratio parameters\n",
      "  warnings.warn(\n"
     ]
    },
    {
     "name": "stdout",
     "output_type": "stream",
     "text": [
      "0.367003367003367\n",
      "\n",
      "0.384935064935065\n"
     ]
    }
   ],
   "source": [
    "age = []\n",
    "age_fem = []\n",
    "age_masc = []\n",
    "age_sep = []\n",
    "\n",
    "for i in range(10):\n",
    "    df_train = pd.read_csv(r'C:\\Users\\alici\\Documents\\tcc\\v3\\particoes\\brmoral\\k_'+str(i+1)+r'\\train.csv')\n",
    "    df_test = pd.read_csv(r'C:\\Users\\alici\\Documents\\tcc\\v3\\particoes\\brmoral\\k_'+str(i+1)+r'\\test.csv')\n",
    "    \n",
    "    X_train = df_train['concat'].apply(clean_text).to_numpy()\n",
    "    X_test = df_test['concat'].apply(clean_text).to_numpy()\n",
    "    y_train_gender = df_train['GenderClass']\n",
    "    y_test_gender = df_test['GenderClass']\n",
    "\n",
    "    tfidfvec_gender = TfidfVectorizer(max_df=0.8)\n",
    "    tfidf_train_gender = tfidfvec_gender.fit_transform(X_train)\n",
    "    tfidf_test_gender = tfidfvec_gender.transform(X_test)\n",
    "\n",
    "    logisticRegr_gender = LogisticRegression(penalty=gender_param[\"k_\"+str(i+1)][\"params\"][\"penalty\"], C=gender_param[\"k_\"+str(i+1)][\"params\"][\"C\"], solver='lbfgs', multi_class='multinomial')\n",
    "    logisticRegr_gender.fit(tfidf_train_gender, y_train_gender)\n",
    "    pred_gender=logisticRegr_gender.predict(tfidf_test_gender)\n",
    "\n",
    "    # f1 = metrics.f1_score(y_test_gender, pred_gender, average='macro')\n",
    "    # f1_list.append(f1)\n",
    "    # print(f1)\n",
    "\n",
    "    df_test[\"PredictGender\"] = pred_gender\n",
    "\n",
    "    df_train_fem = df_train[df_train[\"GenderClass\"]==1]\n",
    "    df_test_fem = df_test[df_test[\"PredictGender\"]==1]\n",
    "\n",
    "    X_train_fem = df_train_fem['concat'].apply(clean_text).to_numpy()\n",
    "    X_test_fem = df_test_fem['concat'].apply(clean_text).to_numpy()\n",
    "    y_train_fem = df_train_fem['AgeClass']\n",
    "    y_test_fem = df_test_fem['AgeClass']\n",
    "\n",
    "    tfidfvec_fem = TfidfVectorizer(max_features = 1000, max_df=0.8)\n",
    "    tfidf_train_fem = tfidfvec_fem.fit_transform(X_train_fem)\n",
    "    tfidf_test_fem = tfidfvec_fem.transform(X_test_fem)\n",
    "\n",
    "    logisticRegr_fem = LogisticRegression(penalty=age_fem_param[\"k_\"+str(i+1)][\"params\"][\"penalty\"], C=age_fem_param[\"k_\"+str(i+1)][\"params\"][\"C\"], solver='liblinear')\n",
    "    logisticRegr_fem.fit(tfidf_train_fem, y_train_fem)\n",
    "    pred_fem=logisticRegr_fem.predict(tfidf_test_fem)\n",
    "\n",
    "    f1 = metrics.f1_score(y_test_fem, pred_fem, average='macro')\n",
    "    age_fem.append(f1)\n",
    "    print(f1)\n",
    "    \n",
    "print()\n",
    "print(sum(age_fem)/len(age_fem))"
   ]
  },
  {
   "cell_type": "code",
   "execution_count": 27,
   "metadata": {},
   "outputs": [
    {
     "name": "stdout",
     "output_type": "stream",
     "text": [
      "0.3238095238095238\n",
      "0.41269841269841273\n",
      "0.5151515151515151\n",
      "0.38888888888888884\n",
      "0.2222222222222222\n",
      "0.7074074074074074\n",
      "0.3333333333333333\n",
      "0.5301587301587302\n",
      "0.48333333333333334\n",
      "0.28571428571428575\n",
      "\n",
      "0.4202717652717653\n"
     ]
    }
   ],
   "source": [
    "age = []\n",
    "age_fem = []\n",
    "age_masc = []\n",
    "age_sep = []\n",
    "\n",
    "for i in range(10):\n",
    "    df_train = pd.read_csv(r'C:\\Users\\alici\\Documents\\tcc\\v3\\particoes\\brmoral\\k_'+str(i+1)+r'\\train.csv')\n",
    "    df_test = pd.read_csv(r'C:\\Users\\alici\\Documents\\tcc\\v3\\particoes\\brmoral\\k_'+str(i+1)+r'\\test.csv')\n",
    "    \n",
    "    X_train = df_train['concat'].apply(clean_text).to_numpy()\n",
    "    X_test = df_test['concat'].apply(clean_text).to_numpy()\n",
    "    y_train_gender = df_train['GenderClass']\n",
    "    y_test_gender = df_test['GenderClass']\n",
    "\n",
    "    tfidfvec_gender = TfidfVectorizer(max_df=0.8)\n",
    "    tfidf_train_gender = tfidfvec_gender.fit_transform(X_train)\n",
    "    tfidf_test_gender = tfidfvec_gender.transform(X_test)\n",
    "\n",
    "    logisticRegr_gender = LogisticRegression(penalty=\"l2\", C=5714.28, solver='lbfgs', multi_class='multinomial')\n",
    "    logisticRegr_gender.fit(tfidf_train_gender, y_train_gender)\n",
    "    pred_gender=logisticRegr_gender.predict(tfidf_test_gender)\n",
    "\n",
    "    # f1 = metrics.f1_score(y_test_gender, pred_gender, average='macro')\n",
    "    # f1_list.append(f1)\n",
    "    # print(f1)\n",
    "\n",
    "    df_test[\"PredictGender\"] = pred_gender\n",
    "\n",
    "    df_train_fem = df_train[df_train[\"GenderClass\"]==1]\n",
    "    df_test_fem = df_test[df_test[\"PredictGender\"]==1]\n",
    "\n",
    "    X_train_fem = df_train_fem['concat'].apply(clean_text).to_numpy()\n",
    "    X_test_fem = df_test_fem['concat'].apply(clean_text).to_numpy()\n",
    "    y_train_fem = df_train_fem['AgeClass']\n",
    "    y_test_fem = df_test_fem['AgeClass']\n",
    "\n",
    "    tfidfvec_fem = TfidfVectorizer(max_features = 1000, max_df=0.8)\n",
    "    tfidf_train_fem = tfidfvec_fem.fit_transform(X_train_fem)\n",
    "    tfidf_test_fem = tfidfvec_fem.transform(X_test_fem)\n",
    "\n",
    "    logisticRegr_fem = LogisticRegression(penalty=\"l2\", C=2857.14, solver='liblinear')\n",
    "    logisticRegr_fem.fit(tfidf_train_fem, y_train_fem)\n",
    "    pred_fem=logisticRegr_fem.predict(tfidf_test_fem)\n",
    "\n",
    "    f1 = metrics.f1_score(y_test_fem, pred_fem, average='macro')\n",
    "    age_fem.append(f1)\n",
    "    print(f1)\n",
    "    \n",
    "print()\n",
    "print(sum(age_fem)/len(age_fem))"
   ]
  },
  {
   "cell_type": "code",
   "execution_count": 39,
   "metadata": {},
   "outputs": [],
   "source": [
    "with open('brmoral/age_masc.json', encoding='utf-8') as f:\n",
    "    age_masc_param = json.load(f)"
   ]
  },
  {
   "cell_type": "code",
   "execution_count": 40,
   "metadata": {},
   "outputs": [
    {
     "name": "stdout",
     "output_type": "stream",
     "text": [
      "0.3855500821018063\n",
      "0.4962406015037594\n"
     ]
    },
    {
     "name": "stderr",
     "output_type": "stream",
     "text": [
      "c:\\Users\\alici\\AppData\\Local\\Programs\\Python\\Python39\\lib\\site-packages\\sklearn\\linear_model\\_logistic.py:1116: UserWarning: Setting penalty='none' will ignore the C and l1_ratio parameters\n",
      "  warnings.warn(\n"
     ]
    },
    {
     "name": "stdout",
     "output_type": "stream",
     "text": [
      "0.4591269841269842\n",
      "0.5167534220165798\n"
     ]
    },
    {
     "name": "stderr",
     "output_type": "stream",
     "text": [
      "c:\\Users\\alici\\AppData\\Local\\Programs\\Python\\Python39\\lib\\site-packages\\sklearn\\linear_model\\_logistic.py:1116: UserWarning: Setting penalty='none' will ignore the C and l1_ratio parameters\n",
      "  warnings.warn(\n"
     ]
    },
    {
     "name": "stdout",
     "output_type": "stream",
     "text": [
      "0.32861952861952864\n"
     ]
    },
    {
     "name": "stderr",
     "output_type": "stream",
     "text": [
      "c:\\Users\\alici\\AppData\\Local\\Programs\\Python\\Python39\\lib\\site-packages\\sklearn\\linear_model\\_logistic.py:1116: UserWarning: Setting penalty='none' will ignore the C and l1_ratio parameters\n",
      "  warnings.warn(\n"
     ]
    },
    {
     "name": "stdout",
     "output_type": "stream",
     "text": [
      "0.37019969278033793\n"
     ]
    },
    {
     "name": "stderr",
     "output_type": "stream",
     "text": [
      "c:\\Users\\alici\\AppData\\Local\\Programs\\Python\\Python39\\lib\\site-packages\\sklearn\\linear_model\\_logistic.py:1116: UserWarning: Setting penalty='none' will ignore the C and l1_ratio parameters\n",
      "  warnings.warn(\n"
     ]
    },
    {
     "name": "stdout",
     "output_type": "stream",
     "text": [
      "0.5131815044858523\n"
     ]
    },
    {
     "name": "stderr",
     "output_type": "stream",
     "text": [
      "c:\\Users\\alici\\AppData\\Local\\Programs\\Python\\Python39\\lib\\site-packages\\sklearn\\linear_model\\_logistic.py:1116: UserWarning: Setting penalty='none' will ignore the C and l1_ratio parameters\n",
      "  warnings.warn(\n"
     ]
    },
    {
     "name": "stdout",
     "output_type": "stream",
     "text": [
      "0.49901477832512314\n"
     ]
    },
    {
     "name": "stderr",
     "output_type": "stream",
     "text": [
      "c:\\Users\\alici\\AppData\\Local\\Programs\\Python\\Python39\\lib\\site-packages\\sklearn\\linear_model\\_logistic.py:1116: UserWarning: Setting penalty='none' will ignore the C and l1_ratio parameters\n",
      "  warnings.warn(\n"
     ]
    },
    {
     "name": "stdout",
     "output_type": "stream",
     "text": [
      "0.5409713743047077\n"
     ]
    },
    {
     "name": "stderr",
     "output_type": "stream",
     "text": [
      "c:\\Users\\alici\\AppData\\Local\\Programs\\Python\\Python39\\lib\\site-packages\\sklearn\\linear_model\\_logistic.py:1116: UserWarning: Setting penalty='none' will ignore the C and l1_ratio parameters\n",
      "  warnings.warn(\n"
     ]
    },
    {
     "name": "stdout",
     "output_type": "stream",
     "text": [
      "0.3819195539625648\n",
      "\n",
      "0.44915775222272447\n"
     ]
    }
   ],
   "source": [
    "age = []\n",
    "age_fem = []\n",
    "age_masc = []\n",
    "age_sep = []\n",
    "\n",
    "for i in range(10):\n",
    "    df_train = pd.read_csv(r'C:\\Users\\alici\\Documents\\tcc\\v3\\particoes\\brmoral\\k_'+str(i+1)+r'\\train.csv')\n",
    "    df_test = pd.read_csv(r'C:\\Users\\alici\\Documents\\tcc\\v3\\particoes\\brmoral\\k_'+str(i+1)+r'\\test.csv')\n",
    "    \n",
    "    X_train = df_train['concat'].apply(clean_text).to_numpy()\n",
    "    X_test = df_test['concat'].apply(clean_text).to_numpy()\n",
    "    y_train_gender = df_train['GenderClass']\n",
    "    y_test_gender = df_test['GenderClass']\n",
    "\n",
    "    tfidfvec_gender = TfidfVectorizer(max_df=0.8)\n",
    "    tfidf_train_gender = tfidfvec_gender.fit_transform(X_train)\n",
    "    tfidf_test_gender = tfidfvec_gender.transform(X_test)\n",
    "\n",
    "    logisticRegr_gender = LogisticRegression(penalty=gender_param[\"k_\"+str(i+1)][\"params\"][\"penalty\"], C=gender_param[\"k_\"+str(i+1)][\"params\"][\"C\"], solver='lbfgs', multi_class='multinomial')\n",
    "    logisticRegr_gender.fit(tfidf_train_gender, y_train_gender)\n",
    "    pred_gender=logisticRegr_gender.predict(tfidf_test_gender)\n",
    "\n",
    "    # f1 = metrics.f1_score(y_test_gender, pred_gender, average='macro')\n",
    "    # f1_list.append(f1)\n",
    "    # print(f1)\n",
    "\n",
    "    df_test[\"PredictGender\"] = pred_gender\n",
    "\n",
    "    df_train_masc = df_train[df_train[\"GenderClass\"]==0]\n",
    "    df_test_masc = df_test[df_test[\"PredictGender\"]==0]\n",
    "\n",
    "    X_train_masc = df_train_masc['concat'].apply(clean_text).to_numpy()\n",
    "    X_test_masc = df_test_masc['concat'].apply(clean_text).to_numpy()\n",
    "    y_train_masc = df_train_masc['AgeClass']\n",
    "    y_test_masc = df_test_masc['AgeClass']\n",
    "\n",
    "    tfidfvec_masc = TfidfVectorizer(max_features = 1000, max_df=0.8)\n",
    "    tfidf_train_masc = tfidfvec_masc.fit_transform(X_train_masc)\n",
    "    tfidf_test_masc = tfidfvec_masc.transform(X_test_masc)\n",
    "\n",
    "    logisticRegr_masc = LogisticRegression(penalty=age_masc_param[\"k_\"+str(i+1)][\"params\"][\"penalty\"], C=age_masc_param[\"k_\"+str(i+1)][\"params\"][\"C\"], solver='liblinear')\n",
    "    logisticRegr_masc.fit(tfidf_train_masc, y_train_masc)\n",
    "    pred_masc=logisticRegr_masc.predict(tfidf_test_masc)\n",
    "\n",
    "    f1 = metrics.f1_score(y_test_masc, pred_masc, average='macro')\n",
    "    age_masc.append(f1)\n",
    "    print(f1)\n",
    "\n",
    "\n",
    "print()\n",
    "print(sum(age_masc)/len(age_masc))"
   ]
  },
  {
   "cell_type": "code",
   "execution_count": 32,
   "metadata": {},
   "outputs": [
    {
     "name": "stdout",
     "output_type": "stream",
     "text": [
      "0.5137147335423197\n",
      "0.5703703703703703\n",
      "0.4143199233716475\n",
      "0.5167534220165798\n",
      "0.4078431372549019\n",
      "0.3959131545338442\n",
      "0.5131815044858523\n",
      "0.5239234449760765\n",
      "0.5402969790066564\n",
      "0.3078703703703704\n",
      "\n",
      "0.4704187039928619\n"
     ]
    }
   ],
   "source": [
    "age = []\n",
    "age_fem = []\n",
    "age_masc = []\n",
    "age_sep = []\n",
    "\n",
    "for i in range(10):\n",
    "    df_train = pd.read_csv(r'C:\\Users\\alici\\Documents\\tcc\\v3\\particoes\\brmoral\\k_'+str(i+1)+r'\\train.csv')\n",
    "    df_test = pd.read_csv(r'C:\\Users\\alici\\Documents\\tcc\\v3\\particoes\\brmoral\\k_'+str(i+1)+r'\\test.csv')\n",
    "    \n",
    "    X_train = df_train['concat'].apply(clean_text).to_numpy()\n",
    "    X_test = df_test['concat'].apply(clean_text).to_numpy()\n",
    "    y_train_gender = df_train['GenderClass']\n",
    "    y_test_gender = df_test['GenderClass']\n",
    "\n",
    "    tfidfvec_gender = TfidfVectorizer(max_df=0.8)\n",
    "    tfidf_train_gender = tfidfvec_gender.fit_transform(X_train)\n",
    "    tfidf_test_gender = tfidfvec_gender.transform(X_test)\n",
    "\n",
    "    logisticRegr_gender = LogisticRegression(penalty=\"l2\", C=5714.28, solver='lbfgs', multi_class='multinomial')\n",
    "    logisticRegr_gender.fit(tfidf_train_gender, y_train_gender)\n",
    "    pred_gender=logisticRegr_gender.predict(tfidf_test_gender)\n",
    "\n",
    "    # f1 = metrics.f1_score(y_test_gender, pred_gender, average='macro')\n",
    "    # f1_list.append(f1)\n",
    "    # print(f1)\n",
    "\n",
    "    df_test[\"PredictGender\"] = pred_gender\n",
    "\n",
    "    df_train_masc = df_train[df_train[\"GenderClass\"]==0]\n",
    "    df_test_masc = df_test[df_test[\"PredictGender\"]==0]\n",
    "\n",
    "    X_train_masc = df_train_masc['concat'].apply(clean_text).to_numpy()\n",
    "    X_test_masc = df_test_masc['concat'].apply(clean_text).to_numpy()\n",
    "    y_train_masc = df_train_masc['AgeClass']\n",
    "    y_test_masc = df_test_masc['AgeClass']\n",
    "\n",
    "    tfidfvec_masc = TfidfVectorizer(max_features = 1000, max_df=0.8)\n",
    "    tfidf_train_masc = tfidfvec_masc.fit_transform(X_train_masc)\n",
    "    tfidf_test_masc = tfidfvec_masc.transform(X_test_masc)\n",
    "\n",
    "    logisticRegr_masc = LogisticRegression(penalty=\"l2\", C=2857.14, solver='liblinear')\n",
    "    logisticRegr_masc.fit(tfidf_train_masc, y_train_masc)\n",
    "    pred_masc=logisticRegr_masc.predict(tfidf_test_masc)\n",
    "\n",
    "    f1 = metrics.f1_score(y_test_masc, pred_masc, average='macro')\n",
    "    age_masc.append(f1)\n",
    "    print(f1)\n",
    "\n",
    "\n",
    "print()\n",
    "print(sum(age_masc)/len(age_masc))"
   ]
  }
 ],
 "metadata": {
  "kernelspec": {
   "display_name": "Python 3.9.6 64-bit",
   "language": "python",
   "name": "python3"
  },
  "language_info": {
   "codemirror_mode": {
    "name": "ipython",
    "version": 3
   },
   "file_extension": ".py",
   "mimetype": "text/x-python",
   "name": "python",
   "nbconvert_exporter": "python",
   "pygments_lexer": "ipython3",
   "version": "3.9.6"
  },
  "orig_nbformat": 4,
  "vscode": {
   "interpreter": {
    "hash": "ac26e9ee9434047e2b6179ca7c094dd6d7a5c4307efa62cbdc343ee78cec5e23"
   }
  }
 },
 "nbformat": 4,
 "nbformat_minor": 2
}
